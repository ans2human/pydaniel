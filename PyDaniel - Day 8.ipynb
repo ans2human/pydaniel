{
 "cells": [
  {
   "cell_type": "code",
   "execution_count": 10,
   "id": "flush-sitting",
   "metadata": {},
   "outputs": [],
   "source": [
    "#JSON\n",
    "# javascript obect notation\n",
    "# this is a format of data\n",
    "# data transfer\n",
    "# data assignment\n",
    "# memory management\n",
    "# API - RESTful(representational state transfer)\n",
    "# json in python is called dictionary\n",
    "\n",
    "\n",
    "\n",
    "car = {\n",
    "    \"model\": \"mustang\",\n",
    "    \"year\": 1969,  # state of value is integer\n",
    "    \"price\": 23434,\n",
    "    \"cc\": 3333.33,\n",
    "    \"is_antique\": True\n",
    "}\n"
   ]
  },
  {
   "cell_type": "code",
   "execution_count": 28,
   "id": "sustained-extension",
   "metadata": {},
   "outputs": [
    {
     "data": {
      "text/plain": [
       "'Bluth'"
      ]
     },
     "execution_count": 28,
     "metadata": {},
     "output_type": "execute_result"
    }
   ],
   "source": [
    "import json\n",
    "import requests\n",
    "\n",
    "x = requests.get('https://reqres.in/api/users?page=1')\n",
    "\n",
    "x_data = x.text\n",
    "\n",
    "x_json = json.loads(x_data)\n",
    "x_json['data'][0][\"last_name\"]"
   ]
  },
  {
   "cell_type": "code",
   "execution_count": 37,
   "id": "spare-gender",
   "metadata": {},
   "outputs": [
    {
     "data": {
      "text/plain": [
       "'{\"cc\": 3333.33, \"is_antique\": true, \"model\": \"mustang\", \"price\": 23434, \"year\": 1969}'"
      ]
     },
     "execution_count": 37,
     "metadata": {},
     "output_type": "execute_result"
    }
   ],
   "source": [
    "# dumps \n",
    "# convert python dictionary to json\n",
    "\n",
    "a = json.dumps(car, sort_keys=True)\n",
    "a"
   ]
  },
  {
   "cell_type": "code",
   "execution_count": 86,
   "id": "dated-alliance",
   "metadata": {},
   "outputs": [],
   "source": [
    "# regex\n",
    "# regular expression\n",
    "# this is a inbuilt python library and it's used for locating specific element in data using specific conditions\n",
    "\n",
    "import re\n",
    "\n",
    "a_str = \"The HTTP requests module allows you to moule send HTTP module requests using moule Python\""
   ]
  },
  {
   "cell_type": "code",
   "execution_count": 87,
   "id": "popular-swedish",
   "metadata": {},
   "outputs": [
    {
     "data": {
      "text/plain": [
       "['module', 'module']"
      ]
     },
     "execution_count": 87,
     "metadata": {},
     "output_type": "execute_result"
    }
   ],
   "source": [
    "# finaall\n",
    "# ^ exponent denotes the start of string\n",
    "\n",
    "a = re.findall(\"module\", a_str)\n",
    "a"
   ]
  },
  {
   "cell_type": "code",
   "execution_count": 94,
   "id": "later-facial",
   "metadata": {},
   "outputs": [
    {
     "data": {
      "text/plain": [
       "'The HTTP requests module allows you to moule send HTTP module requests using moule Python'"
      ]
     },
     "execution_count": 94,
     "metadata": {},
     "output_type": "execute_result"
    }
   ],
   "source": [
    "# search\n",
    "\n",
    "\n",
    "a = re.search(\"module\", a_str)\n",
    "a.string"
   ]
  },
  {
   "cell_type": "code",
   "execution_count": 81,
   "id": "greenhouse-breakdown",
   "metadata": {},
   "outputs": [
    {
     "data": {
      "text/plain": [
       "['The HTTP requests moule allows you to moule send HTTP ',\n",
       " ' requests using moule Python']"
      ]
     },
     "execution_count": 81,
     "metadata": {},
     "output_type": "execute_result"
    }
   ],
   "source": [
    "# split\n",
    "\n",
    "b = re.split(\"module\", a_str)\n",
    "b"
   ]
  },
  {
   "cell_type": "code",
   "execution_count": 84,
   "id": "worldwide-diary",
   "metadata": {},
   "outputs": [
    {
     "ename": "AttributeError",
     "evalue": "'str' object has no attribute 'span'",
     "output_type": "error",
     "traceback": [
      "\u001b[1;31m---------------------------------------------------------------------------\u001b[0m",
      "\u001b[1;31mAttributeError\u001b[0m                            Traceback (most recent call last)",
      "\u001b[1;32m<ipython-input-84-81735dc1a1a2>\u001b[0m in \u001b[0;36m<module>\u001b[1;34m\u001b[0m\n\u001b[0;32m      2\u001b[0m \u001b[1;33m\u001b[0m\u001b[0m\n\u001b[0;32m      3\u001b[0m \u001b[0mb\u001b[0m \u001b[1;33m=\u001b[0m \u001b[0mre\u001b[0m\u001b[1;33m.\u001b[0m\u001b[0msub\u001b[0m\u001b[1;33m(\u001b[0m\u001b[1;34m\"moule\"\u001b[0m\u001b[1;33m,\u001b[0m  \u001b[1;34m\"module\"\u001b[0m\u001b[1;33m,\u001b[0m \u001b[0ma_str\u001b[0m\u001b[1;33m)\u001b[0m\u001b[1;33m\u001b[0m\u001b[1;33m\u001b[0m\u001b[0m\n\u001b[1;32m----> 4\u001b[1;33m \u001b[0mb\u001b[0m\u001b[1;33m.\u001b[0m\u001b[0mspan\u001b[0m\u001b[1;33m\u001b[0m\u001b[1;33m\u001b[0m\u001b[0m\n\u001b[0m",
      "\u001b[1;31mAttributeError\u001b[0m: 'str' object has no attribute 'span'"
     ]
    }
   ],
   "source": [
    "# sub\n",
    "\n",
    "b = re.sub(\"moule\",  \"module\", a_str)\n",
    "b"
   ]
  },
  {
   "cell_type": "code",
   "execution_count": 114,
   "id": "alternative-miami",
   "metadata": {},
   "outputs": [
    {
     "name": "stdout",
     "output_type": "stream",
     "text": [
      "ECMA-404\n"
     ]
    }
   ],
   "source": [
    "b_str = \"JSON (JavaScript Object Notation), specified by RFC 7159 (which obsoletes RFC 4627) and by ECMA-404 is a lightweight data interchange format inspired by JavaScript object literal syntax (although it is not a strict subset of JavaScript 1). json exposes an API familiar to users of the standard library marshal and pickle modules.\"\n",
    "\n",
    "b_search = re.search(r\"\\bE\\w+-\\d+\", b_str)\n",
    "print(b_search.group())"
   ]
  },
  {
   "cell_type": "code",
   "execution_count": null,
   "id": "descending-prime",
   "metadata": {},
   "outputs": [],
   "source": []
  }
 ],
 "metadata": {
  "kernelspec": {
   "display_name": "Python 3",
   "language": "python",
   "name": "python3"
  },
  "language_info": {
   "codemirror_mode": {
    "name": "ipython",
    "version": 3
   },
   "file_extension": ".py",
   "mimetype": "text/x-python",
   "name": "python",
   "nbconvert_exporter": "python",
   "pygments_lexer": "ipython3",
   "version": "3.9.2"
  }
 },
 "nbformat": 4,
 "nbformat_minor": 5
}
