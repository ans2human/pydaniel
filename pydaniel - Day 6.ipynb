{
 "cells": [
  {
   "cell_type": "code",
   "execution_count": 9,
   "id": "beneficial-correction",
   "metadata": {},
   "outputs": [],
   "source": [
    "#Lambda\n",
    "\n",
    "x = lambda y : y * 3"
   ]
  },
  {
   "cell_type": "code",
   "execution_count": 10,
   "id": "auburn-hearing",
   "metadata": {},
   "outputs": [
    {
     "data": {
      "text/plain": [
       "12"
      ]
     },
     "execution_count": 10,
     "metadata": {},
     "output_type": "execute_result"
    }
   ],
   "source": [
    "x(4)"
   ]
  },
  {
   "cell_type": "code",
   "execution_count": 13,
   "id": "electric-hybrid",
   "metadata": {},
   "outputs": [
    {
     "data": {
      "text/plain": [
       "6"
      ]
     },
     "execution_count": 13,
     "metadata": {},
     "output_type": "execute_result"
    }
   ],
   "source": [
    "x(2)"
   ]
  },
  {
   "cell_type": "code",
   "execution_count": 14,
   "id": "social-variety",
   "metadata": {},
   "outputs": [],
   "source": [
    "def multiplyer(num):\n",
    "    num = num * 3\n",
    "    return num"
   ]
  },
  {
   "cell_type": "code",
   "execution_count": 15,
   "id": "fatty-extreme",
   "metadata": {},
   "outputs": [
    {
     "data": {
      "text/plain": [
       "102"
      ]
     },
     "execution_count": 15,
     "metadata": {},
     "output_type": "execute_result"
    }
   ],
   "source": [
    "multiplyer(34)"
   ]
  },
  {
   "cell_type": "code",
   "execution_count": 16,
   "id": "veterinary-stereo",
   "metadata": {},
   "outputs": [],
   "source": [
    "# arrays\n",
    "# its same as list"
   ]
  },
  {
   "cell_type": "code",
   "execution_count": null,
   "id": "dried-market",
   "metadata": {},
   "outputs": [],
   "source": []
  },
  {
   "cell_type": "code",
   "execution_count": 102,
   "id": "statutory-designer",
   "metadata": {},
   "outputs": [],
   "source": [
    "# Classes\n",
    "# PascalCase is followed while naming a class\n",
    "\n",
    "\n",
    "class SumMethod: # parent class\n",
    "    \n",
    "    def __init__(self, *args):\n",
    "        self.args = args\n",
    "    \n",
    "    def sum_fn(self):\n",
    "        sum_n = 0\n",
    "        for x in list(self.args):\n",
    "            sum_n += x\n",
    "        return sum_n\n",
    "    \n",
    "    def multiplyer(self):\n",
    "        multiply_n = 1\n",
    "        for x in self.args:\n",
    "            multiply_n = multiply_n * x \n",
    "        return multiply_n"
   ]
  },
  {
   "cell_type": "code",
   "execution_count": 103,
   "id": "adopted-appeal",
   "metadata": {},
   "outputs": [],
   "source": [
    "c_call = SumMethod(3, 4, 5, 8)"
   ]
  },
  {
   "cell_type": "code",
   "execution_count": 104,
   "id": "addressed-chicken",
   "metadata": {},
   "outputs": [
    {
     "data": {
      "text/plain": [
       "20"
      ]
     },
     "execution_count": 104,
     "metadata": {},
     "output_type": "execute_result"
    }
   ],
   "source": [
    "c_call.sum_fn()"
   ]
  },
  {
   "cell_type": "code",
   "execution_count": 105,
   "id": "divided-response",
   "metadata": {},
   "outputs": [
    {
     "data": {
      "text/plain": [
       "480"
      ]
     },
     "execution_count": 105,
     "metadata": {},
     "output_type": "execute_result"
    }
   ],
   "source": [
    "c_call.multiplyer()    "
   ]
  },
  {
   "cell_type": "code",
   "execution_count": 106,
   "id": "gross-damage",
   "metadata": {},
   "outputs": [],
   "source": [
    "#inheritance"
   ]
  },
  {
   "cell_type": "code",
   "execution_count": 107,
   "id": "limited-louisiana",
   "metadata": {},
   "outputs": [],
   "source": [
    "class InheritedSum(SumMethod): # child class\n",
    "    pass"
   ]
  },
  {
   "cell_type": "code",
   "execution_count": 114,
   "id": "historic-intention",
   "metadata": {},
   "outputs": [],
   "source": [
    "abc = InheritedSum(3,7).multiplyer()"
   ]
  },
  {
   "cell_type": "code",
   "execution_count": 115,
   "id": "pharmaceutical-outreach",
   "metadata": {},
   "outputs": [
    {
     "data": {
      "text/plain": [
       "21"
      ]
     },
     "execution_count": 115,
     "metadata": {},
     "output_type": "execute_result"
    }
   ],
   "source": [
    "abc"
   ]
  }
 ],
 "metadata": {
  "kernelspec": {
   "display_name": "Python 3",
   "language": "python",
   "name": "python3"
  },
  "language_info": {
   "codemirror_mode": {
    "name": "ipython",
    "version": 3
   },
   "file_extension": ".py",
   "mimetype": "text/x-python",
   "name": "python",
   "nbconvert_exporter": "python",
   "pygments_lexer": "ipython3",
   "version": "3.9.2"
  }
 },
 "nbformat": 4,
 "nbformat_minor": 5
}
