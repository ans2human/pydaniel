{
 "cells": [
  {
   "cell_type": "code",
   "execution_count": 14,
   "id": "civic-combination",
   "metadata": {},
   "outputs": [],
   "source": [
    "#pip\n",
    "\n",
    "# its a python package or tool responsible for installing other python libraries\n"
   ]
  },
  {
   "cell_type": "code",
   "execution_count": 1,
   "id": "infinite-black",
   "metadata": {},
   "outputs": [
    {
     "name": "stdout",
     "output_type": "stream",
     "text": [
      "Collecting imgscrape\n",
      "  Using cached imgscrape-0.1.1.tar.gz (2.7 kB)\n",
      "Collecting pillow\n",
      "  Using cached Pillow-8.1.2-cp39-cp39-win_amd64.whl (2.2 MB)\n",
      "Collecting selenium\n",
      "  Downloading selenium-3.141.0-py2.py3-none-any.whl (904 kB)\n",
      "Requirement already satisfied: urllib3 in c:\\users\\anshuman\\appdata\\local\\packages\\pythonsoftwarefoundation.python.3.9_qbz5n2kfra8p0\\localcache\\local-packages\\python39\\site-packages (from selenium->imgscrape) (1.26.3)\n",
      "Using legacy 'setup.py install' for imgscrape, since package 'wheel' is not installed.\n",
      "Installing collected packages: selenium, pillow, imgscrape\n",
      "    Running setup.py install for imgscrape: started\n",
      "    Running setup.py install for imgscrape: finished with status 'done'\n",
      "Successfully installed imgscrape-0.1.1 pillow-8.1.2 selenium-3.141.0\n",
      "Note: you may need to restart the kernel to use updated packages.\n"
     ]
    }
   ],
   "source": [
    "pip install imgscrape"
   ]
  },
  {
   "cell_type": "code",
   "execution_count": 5,
   "id": "registered-fifth",
   "metadata": {},
   "outputs": [],
   "source": [
    "# exception handling\n",
    "\n",
    "\n",
    "car_keys = [\"model\", \"brand\", \"cc\", \"year\"]\n",
    "car_values = [\"harrier\", \"TATA\", 3500.89, 2020]\n",
    "\n",
    "car = dict(zip(car_keys, car_values))"
   ]
  },
  {
   "cell_type": "code",
   "execution_count": 6,
   "id": "stuffed-pattern",
   "metadata": {},
   "outputs": [],
   "source": [
    "car = {'model': 'harrier', 'brand': 'TATA', 'cc': 3500.89, 'year': 2020}"
   ]
  },
  {
   "cell_type": "code",
   "execution_count": 7,
   "id": "perfect-vaccine",
   "metadata": {
    "scrolled": true
   },
   "outputs": [
    {
     "name": "stdout",
     "output_type": "stream",
     "text": [
      "either your dict is missing or its key\n"
     ]
    }
   ],
   "source": [
    "try:\n",
    "    print(car[\"type\"])\n",
    "except (NameError, KeyError) as e:\n",
    "    print(\"either your dict is missing or its key\")"
   ]
  },
  {
   "cell_type": "code",
   "execution_count": 8,
   "id": "addressed-amplifier",
   "metadata": {},
   "outputs": [],
   "source": [
    "#input\n",
    "\n",
    "\n",
    "def sum_tn(num1, num2):\n",
    "    return num1 + num2"
   ]
  },
  {
   "cell_type": "code",
   "execution_count": 9,
   "id": "attached-hawaiian",
   "metadata": {},
   "outputs": [
    {
     "name": "stdout",
     "output_type": "stream",
     "text": [
      "you haven't provided the function with arguments\n",
      "enter a num 4\n",
      "<class 'int'>\n",
      "enter the second num4\n",
      "<class 'int'>\n",
      "8\n"
     ]
    }
   ],
   "source": [
    "try:\n",
    "    sum_tn()\n",
    "except:\n",
    "    print(\"you haven't provided the function with arguments\")\n",
    "finally:\n",
    "    num1 = int(input(\"enter a num \"))\n",
    "    print(type(num1))\n",
    "    num2 = int(input(\"enter the second num\"))\n",
    "    print(type(num1))\n",
    "    print(sum_tn(num1, num2))"
   ]
  },
  {
   "cell_type": "code",
   "execution_count": 10,
   "id": "leading-hands",
   "metadata": {},
   "outputs": [
    {
     "name": "stdout",
     "output_type": "stream",
     "text": [
      "what's your middle name anand\n"
     ]
    },
    {
     "data": {
      "text/plain": [
       "'Anshuman anand Singh'"
      ]
     },
     "execution_count": 10,
     "metadata": {},
     "output_type": "execute_result"
    }
   ],
   "source": [
    "# string formatting\n",
    "# to edit a string or update it\n",
    "\n",
    "middle_name = input(\"what's your middle name \")\n",
    "name = \"Anshuman {} Singh\".format(middle_name)\n",
    "name"
   ]
  },
  {
   "cell_type": "code",
   "execution_count": 12,
   "id": "infinite-sally",
   "metadata": {},
   "outputs": [
    {
     "data": {
      "text/plain": [
       "\"you haven't anand provided the function ['model', 'brand', 'cc', 'year'] with ['harrier', 'TATA', 3500.89, 2020] arguments\""
      ]
     },
     "execution_count": 12,
     "metadata": {},
     "output_type": "execute_result"
    }
   ],
   "source": [
    "sm_str = \"you haven't {} provided the function {} with {} arguments\".format(middle_name, car_keys, car_values)\n",
    "sm_str"
   ]
  },
  {
   "cell_type": "code",
   "execution_count": null,
   "id": "involved-banana",
   "metadata": {},
   "outputs": [],
   "source": []
  }
 ],
 "metadata": {
  "kernelspec": {
   "display_name": "Python 3",
   "language": "python",
   "name": "python3"
  },
  "language_info": {
   "codemirror_mode": {
    "name": "ipython",
    "version": 3
   },
   "file_extension": ".py",
   "mimetype": "text/x-python",
   "name": "python",
   "nbconvert_exporter": "python",
   "pygments_lexer": "ipython3",
   "version": "3.9.2"
  }
 },
 "nbformat": 4,
 "nbformat_minor": 5
}
