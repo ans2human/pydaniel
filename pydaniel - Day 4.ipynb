{
 "cells": [
  {
   "cell_type": "code",
   "execution_count": null,
   "id": "wooden-coordination",
   "metadata": {},
   "outputs": [],
   "source": [
    "# While loop\n",
    "# break - Breaks the while loop if a condition is true\n",
    "# continue - skips a particular execution cycle if statement is true\n",
    "\n",
    "my_list = []\n",
    "\n",
    "\n",
    "my_name = \"Daniel\"\n",
    "\n",
    "#break\n",
    "while len(my_list) < len(my_name):\n",
    "    for x in my_name:\n",
    "        if len(my_list) ==3:\n",
    "            \n",
    "            break\n",
    "        my_list.append(x)\n",
    "        print(my_list)"
   ]
  },
  {
   "cell_type": "code",
   "execution_count": 3,
   "id": "spectacular-success",
   "metadata": {},
   "outputs": [
    {
     "name": "stdout",
     "output_type": "stream",
     "text": [
      "['D']\n",
      "['D', 'a']\n",
      "['D', 'a', 'n']\n",
      "['D', 'a', 'n', ',']\n",
      "['D', 'a', 'n', ',', 'i']\n",
      "['D', 'a', 'n', ',', 'i', 'e']\n",
      "['D', 'a', 'n', ',', 'i', 'e', 'l']\n"
     ]
    }
   ],
   "source": [
    "#continue\n",
    "\n",
    "\n",
    "my_list = []\n",
    "\n",
    "\n",
    "my_name = \"Dan,iel\"\n",
    "\n",
    "while len(my_list) < len(my_name):\n",
    "    for x in my_name:\n",
    "        my_list.append(x)\n",
    "        print(my_list)\n",
    "        if x ==\",\":\n",
    "            continue\n",
    "        "
   ]
  },
  {
   "cell_type": "code",
   "execution_count": 6,
   "id": "composite-concrete",
   "metadata": {},
   "outputs": [
    {
     "name": "stdout",
     "output_type": "stream",
     "text": [
      "1\n",
      "2\n",
      "3\n"
     ]
    }
   ],
   "source": [
    "i = 1\n",
    "while i < 6:\n",
    "  print(i)\n",
    "  if i == 3:\n",
    "    break\n",
    "  i += 1"
   ]
  },
  {
   "cell_type": "code",
   "execution_count": 9,
   "id": "facial-composite",
   "metadata": {},
   "outputs": [
    {
     "name": "stdout",
     "output_type": "stream",
     "text": [
      "1\n",
      "2\n",
      "3\n",
      "4\n",
      "loop stopped\n"
     ]
    }
   ],
   "source": [
    "i = 1\n",
    "while i<5:\n",
    "    print(i)\n",
    "    i +=1\n",
    "else:\n",
    "    print(\"loop stopped\")"
   ]
  },
  {
   "cell_type": "code",
   "execution_count": 10,
   "id": "elementary-advantage",
   "metadata": {},
   "outputs": [
    {
     "name": "stdout",
     "output_type": "stream",
     "text": [
      "A\n",
      "n\n",
      "s\n",
      "h\n",
      "u\n",
      "m\n",
      "a\n",
      "n\n"
     ]
    }
   ],
   "source": [
    "# for loops \n",
    "# it is used for Iteration\n",
    "\n",
    "my_name = \"Anshuman\"\n",
    "\n",
    "for x in my_name:\n",
    "    # x = A\n",
    "    print(x)"
   ]
  },
  {
   "cell_type": "code",
   "execution_count": 80,
   "id": "obvious-visit",
   "metadata": {},
   "outputs": [
    {
     "name": "stdout",
     "output_type": "stream",
     "text": [
      "[5, 2, 4, 3]\n"
     ]
    }
   ],
   "source": [
    "my_list = [[4, 56, 77, 88, 22], 44.4, {\"a\":2, 'b':56}, \"eoc\", (True, 5, \"dan\", \"Something\"), 70,  {3.4, 1, \"Anshuman\"}]\n",
    "# expected my_list = [5, 2, 4, 3]\n",
    "\n",
    "my_list2 = []\n",
    "for i,v in enumerate(my_list):\n",
    "    if type(v) in [dict, list, set, tuple]:\n",
    "        my_list2.append(len(my_list[i]))\n",
    "print(my_list2)"
   ]
  },
  {
   "cell_type": "code",
   "execution_count": 148,
   "id": "classical-musical",
   "metadata": {},
   "outputs": [],
   "source": [
    "#functions\n",
    "# packaging of logic so that you can use them anywhere in your program\n",
    "\n",
    "\n",
    "def sum_fn(*args):\n",
    "    my_sum=0\n",
    "    for x in args:\n",
    "        my_sum += x\n",
    "    return my_sum\n",
    "        "
   ]
  },
  {
   "cell_type": "code",
   "execution_count": 149,
   "id": "administrative-patch",
   "metadata": {},
   "outputs": [
    {
     "data": {
      "text/plain": [
       "4"
      ]
     },
     "execution_count": 149,
     "metadata": {},
     "output_type": "execute_result"
    }
   ],
   "source": [
    "sum_fn(4)"
   ]
  },
  {
   "cell_type": "code",
   "execution_count": 150,
   "id": "integral-debate",
   "metadata": {},
   "outputs": [
    {
     "data": {
      "text/plain": [
       "20384082734116343057654523"
      ]
     },
     "execution_count": 150,
     "metadata": {},
     "output_type": "execute_result"
    }
   ],
   "source": [
    "sum_fn(28934730247203,20384082734087408327407320)"
   ]
  },
  {
   "cell_type": "code",
   "execution_count": 151,
   "id": "amazing-enclosure",
   "metadata": {},
   "outputs": [
    {
     "data": {
      "text/plain": [
       "20"
      ]
     },
     "execution_count": 151,
     "metadata": {},
     "output_type": "execute_result"
    }
   ],
   "source": [
    "cal_c = sum_fn(4,1,9, 6)\n",
    "cal_c"
   ]
  },
  {
   "cell_type": "code",
   "execution_count": 152,
   "id": "engaged-sucking",
   "metadata": {},
   "outputs": [],
   "source": [
    "def basket_counter(quantity_list):\n",
    "    my_list2 = []\n",
    "    for i,v in enumerate(quantity_list):\n",
    "        if type(v) in [dict, list, set, tuple]:\n",
    "            my_list2.append(len(quantity_list[i]))\n",
    "    return my_list2\n"
   ]
  },
  {
   "cell_type": "code",
   "execution_count": 153,
   "id": "preceding-spare",
   "metadata": {},
   "outputs": [
    {
     "data": {
      "text/plain": [
       "[4, 2, 5, 3]"
      ]
     },
     "execution_count": 153,
     "metadata": {},
     "output_type": "execute_result"
    }
   ],
   "source": [
    "basket_counter([[56, 77, 88, 22], 44.4, {\"a\":2, 'b':56}, \"eoc\", (22 ,True, 5, \"dan\", \"Something\"), 70,  {3.4, 1, \"Anshuman\"}])"
   ]
  },
  {
   "cell_type": "code",
   "execution_count": 154,
   "id": "impaired-supervisor",
   "metadata": {},
   "outputs": [
    {
     "data": {
      "text/plain": [
       "[8, 3, 5, 3]"
      ]
     },
     "execution_count": 154,
     "metadata": {},
     "output_type": "execute_result"
    }
   ],
   "source": [
    "basket_counter([[56, 77,45,545,46566,66, 88, 22], 44.4, {\"a\":2,89:44.4, 'b':56}, \"eoc\", (22 ,True, 5, \"dan\", \"Something\"), 70,  {3.4, 1, \"Anshuman\"}])"
   ]
  },
  {
   "cell_type": "code",
   "execution_count": 167,
   "id": "federal-conversion",
   "metadata": {},
   "outputs": [],
   "source": [
    "# **kwargs\n",
    "\n",
    "\n",
    "def some_func(*args, **kwargs):\n",
    "    print(args, kwargs)"
   ]
  },
  {
   "cell_type": "code",
   "execution_count": 169,
   "id": "twelve-fraud",
   "metadata": {},
   "outputs": [
    {
     "name": "stdout",
     "output_type": "stream",
     "text": [
      "('anshuman', 'daniel', 'python', 1730, 56.89) {'version': 3.9, 'django': 3.1}\n"
     ]
    }
   ],
   "source": [
    "some_func(\"anshuman\", \"daniel\", \"python\", 1730, 56.89, version = 3.9, django= 3.1)"
   ]
  },
  {
   "cell_type": "code",
   "execution_count": null,
   "id": "incorporate-aquatic",
   "metadata": {},
   "outputs": [],
   "source": []
  }
 ],
 "metadata": {
  "kernelspec": {
   "display_name": "Python 3",
   "language": "python",
   "name": "python3"
  },
  "language_info": {
   "codemirror_mode": {
    "name": "ipython",
    "version": 3
   },
   "file_extension": ".py",
   "mimetype": "text/x-python",
   "name": "python",
   "nbconvert_exporter": "python",
   "pygments_lexer": "ipython3",
   "version": "3.9.2"
  }
 },
 "nbformat": 4,
 "nbformat_minor": 5
}
