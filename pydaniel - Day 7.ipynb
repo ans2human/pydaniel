{
 "cells": [
  {
   "cell_type": "code",
   "execution_count": 1,
   "id": "according-madagascar",
   "metadata": {},
   "outputs": [],
   "source": [
    "# iterators\n",
    "# python has inbuilt itertor methods\n",
    "# __iter__\n",
    "\n",
    "my_list = [2, 5, \"Abc\", True, 22.4]"
   ]
  },
  {
   "cell_type": "code",
   "execution_count": 2,
   "id": "mobile-cowboy",
   "metadata": {},
   "outputs": [
    {
     "name": "stdout",
     "output_type": "stream",
     "text": [
      "2\n",
      "5\n",
      "Abc\n",
      "True\n",
      "22.4\n"
     ]
    }
   ],
   "source": [
    "for x in my_list:\n",
    "    # __iter__ is working along with next method\n",
    "    print(x)"
   ]
  },
  {
   "cell_type": "code",
   "execution_count": 6,
   "id": "baking-classification",
   "metadata": {},
   "outputs": [
    {
     "data": {
      "text/plain": [
       "2"
      ]
     },
     "execution_count": 6,
     "metadata": {},
     "output_type": "execute_result"
    }
   ],
   "source": [
    "it_obj = iter(my_list)\n",
    "next(it_obj)"
   ]
  },
  {
   "cell_type": "code",
   "execution_count": 7,
   "id": "governing-samuel",
   "metadata": {},
   "outputs": [
    {
     "data": {
      "text/plain": [
       "5"
      ]
     },
     "execution_count": 7,
     "metadata": {},
     "output_type": "execute_result"
    }
   ],
   "source": [
    "next(it_obj)"
   ]
  },
  {
   "cell_type": "code",
   "execution_count": 8,
   "id": "digital-tsunami",
   "metadata": {},
   "outputs": [
    {
     "data": {
      "text/plain": [
       "'Abc'"
      ]
     },
     "execution_count": 8,
     "metadata": {},
     "output_type": "execute_result"
    }
   ],
   "source": [
    "next(it_obj)"
   ]
  },
  {
   "cell_type": "code",
   "execution_count": 10,
   "id": "killing-range",
   "metadata": {},
   "outputs": [
    {
     "data": {
      "text/plain": [
       "'Abc'"
      ]
     },
     "execution_count": 10,
     "metadata": {},
     "output_type": "execute_result"
    }
   ],
   "source": [
    "my_list[2]"
   ]
  },
  {
   "cell_type": "code",
   "execution_count": 22,
   "id": "typical-likelihood",
   "metadata": {},
   "outputs": [],
   "source": [
    "def for_loop(my_list):\n",
    "    x = iter(my_list)\n",
    "    return x"
   ]
  },
  {
   "cell_type": "code",
   "execution_count": 27,
   "id": "aerial-button",
   "metadata": {},
   "outputs": [],
   "source": [
    "def some_other_fn(my_list):\n",
    "    y = for_loop(my_list)\n",
    "    return y\n",
    "\n",
    "    \n",
    "def some_other_fn_2(my_list):\n",
    "    print(for_loop(my_list))"
   ]
  },
  {
   "cell_type": "code",
   "execution_count": 32,
   "id": "digital-acoustic",
   "metadata": {},
   "outputs": [
    {
     "name": "stdout",
     "output_type": "stream",
     "text": [
      "2\n"
     ]
    },
    {
     "data": {
      "text/plain": [
       "2"
      ]
     },
     "execution_count": 32,
     "metadata": {},
     "output_type": "execute_result"
    }
   ],
   "source": [
    "print(next(some_other_fn(my_list)))\n",
    "next(some_other_fn(my_list))"
   ]
  },
  {
   "cell_type": "code",
   "execution_count": 33,
   "id": "wired-breeding",
   "metadata": {},
   "outputs": [
    {
     "data": {
      "text/plain": [
       "2"
      ]
     },
     "execution_count": 33,
     "metadata": {},
     "output_type": "execute_result"
    }
   ],
   "source": [
    "next(some_other_fn(my_list))"
   ]
  },
  {
   "cell_type": "code",
   "execution_count": 34,
   "id": "sophisticated-expense",
   "metadata": {},
   "outputs": [
    {
     "data": {
      "text/plain": [
       "2"
      ]
     },
     "execution_count": 34,
     "metadata": {},
     "output_type": "execute_result"
    }
   ],
   "source": [
    "next(some_other_fn(my_list))"
   ]
  },
  {
   "cell_type": "code",
   "execution_count": 35,
   "id": "local-transcription",
   "metadata": {},
   "outputs": [],
   "source": [
    "# scope"
   ]
  },
  {
   "cell_type": "code",
   "execution_count": 1,
   "id": "natural-bullet",
   "metadata": {},
   "outputs": [],
   "source": [
    "def scope_fn():\n",
    "    global y\n",
    "    y = 5\n"
   ]
  },
  {
   "cell_type": "code",
   "execution_count": 2,
   "id": "exceptional-alfred",
   "metadata": {},
   "outputs": [],
   "source": [
    "scope_fn()"
   ]
  },
  {
   "cell_type": "code",
   "execution_count": 3,
   "id": "coated-transcription",
   "metadata": {},
   "outputs": [],
   "source": [
    "def scope_fn2():\n",
    "    return y"
   ]
  },
  {
   "cell_type": "code",
   "execution_count": 4,
   "id": "informed-character",
   "metadata": {},
   "outputs": [
    {
     "data": {
      "text/plain": [
       "5"
      ]
     },
     "execution_count": 4,
     "metadata": {},
     "output_type": "execute_result"
    }
   ],
   "source": [
    "scope_fn2()"
   ]
  },
  {
   "cell_type": "code",
   "execution_count": 5,
   "id": "touched-fusion",
   "metadata": {},
   "outputs": [],
   "source": [
    "# module\n",
    "# https://stackoverflow.com/questions/448271/what-is-init-py-for\n",
    "\n",
    "# will do later..."
   ]
  },
  {
   "cell_type": "code",
   "execution_count": null,
   "id": "applied-acrobat",
   "metadata": {},
   "outputs": [],
   "source": []
  },
  {
   "cell_type": "code",
   "execution_count": 6,
   "id": "creative-abuse",
   "metadata": {},
   "outputs": [
    {
     "data": {
      "text/plain": [
       "['__doc__',\n",
       " '__loader__',\n",
       " '__name__',\n",
       " '__package__',\n",
       " '__spec__',\n",
       " 'acos',\n",
       " 'acosh',\n",
       " 'asin',\n",
       " 'asinh',\n",
       " 'atan',\n",
       " 'atan2',\n",
       " 'atanh',\n",
       " 'ceil',\n",
       " 'comb',\n",
       " 'copysign',\n",
       " 'cos',\n",
       " 'cosh',\n",
       " 'degrees',\n",
       " 'dist',\n",
       " 'e',\n",
       " 'erf',\n",
       " 'erfc',\n",
       " 'exp',\n",
       " 'expm1',\n",
       " 'fabs',\n",
       " 'factorial',\n",
       " 'floor',\n",
       " 'fmod',\n",
       " 'frexp',\n",
       " 'fsum',\n",
       " 'gamma',\n",
       " 'gcd',\n",
       " 'hypot',\n",
       " 'inf',\n",
       " 'isclose',\n",
       " 'isfinite',\n",
       " 'isinf',\n",
       " 'isnan',\n",
       " 'isqrt',\n",
       " 'lcm',\n",
       " 'ldexp',\n",
       " 'lgamma',\n",
       " 'log',\n",
       " 'log10',\n",
       " 'log1p',\n",
       " 'log2',\n",
       " 'modf',\n",
       " 'nan',\n",
       " 'nextafter',\n",
       " 'perm',\n",
       " 'pi',\n",
       " 'pow',\n",
       " 'prod',\n",
       " 'radians',\n",
       " 'remainder',\n",
       " 'sin',\n",
       " 'sinh',\n",
       " 'sqrt',\n",
       " 'tan',\n",
       " 'tanh',\n",
       " 'tau',\n",
       " 'trunc',\n",
       " 'ulp']"
      ]
     },
     "execution_count": 6,
     "metadata": {},
     "output_type": "execute_result"
    }
   ],
   "source": [
    "# math\n",
    "import math\n",
    "\n",
    "dir(math)"
   ]
  },
  {
   "cell_type": "code",
   "execution_count": 12,
   "id": "intense-reach",
   "metadata": {},
   "outputs": [],
   "source": [
    "x = 9.90"
   ]
  },
  {
   "cell_type": "code",
   "execution_count": 13,
   "id": "solid-politics",
   "metadata": {},
   "outputs": [
    {
     "data": {
      "text/plain": [
       "9"
      ]
     },
     "execution_count": 13,
     "metadata": {},
     "output_type": "execute_result"
    }
   ],
   "source": [
    "math.trunc(x)"
   ]
  },
  {
   "cell_type": "code",
   "execution_count": 14,
   "id": "prepared-vienna",
   "metadata": {},
   "outputs": [],
   "source": [
    "my_list = [3,5, 8, 1, 9]\n"
   ]
  },
  {
   "cell_type": "code",
   "execution_count": 15,
   "id": "worth-footwear",
   "metadata": {},
   "outputs": [
    {
     "data": {
      "text/plain": [
       "9"
      ]
     },
     "execution_count": 15,
     "metadata": {},
     "output_type": "execute_result"
    }
   ],
   "source": [
    "max(my_list)"
   ]
  },
  {
   "cell_type": "code",
   "execution_count": 16,
   "id": "under-coordination",
   "metadata": {},
   "outputs": [
    {
     "data": {
      "text/plain": [
       "27"
      ]
     },
     "execution_count": 16,
     "metadata": {},
     "output_type": "execute_result"
    }
   ],
   "source": [
    "pow(3, 3)"
   ]
  },
  {
   "cell_type": "code",
   "execution_count": 18,
   "id": "opposed-vietnam",
   "metadata": {},
   "outputs": [
    {
     "data": {
      "text/plain": [
       "9"
      ]
     },
     "execution_count": 18,
     "metadata": {},
     "output_type": "execute_result"
    }
   ],
   "source": [
    "math.trunc(math.sqrt(81))"
   ]
  },
  {
   "cell_type": "code",
   "execution_count": 19,
   "id": "prospective-planning",
   "metadata": {},
   "outputs": [],
   "source": [
    "# floor \n",
    "# ceil\n",
    "\n",
    "\n",
    "x = 5.5"
   ]
  },
  {
   "cell_type": "code",
   "execution_count": 20,
   "id": "french-frost",
   "metadata": {},
   "outputs": [
    {
     "data": {
      "text/plain": [
       "6"
      ]
     },
     "execution_count": 20,
     "metadata": {},
     "output_type": "execute_result"
    }
   ],
   "source": [
    "math.ceil(x)"
   ]
  },
  {
   "cell_type": "code",
   "execution_count": 21,
   "id": "current-security",
   "metadata": {},
   "outputs": [
    {
     "data": {
      "text/plain": [
       "5"
      ]
     },
     "execution_count": 21,
     "metadata": {},
     "output_type": "execute_result"
    }
   ],
   "source": [
    "math.floor(x)"
   ]
  },
  {
   "cell_type": "code",
   "execution_count": null,
   "id": "integral-milwaukee",
   "metadata": {},
   "outputs": [],
   "source": []
  }
 ],
 "metadata": {
  "kernelspec": {
   "display_name": "Python 3",
   "language": "python",
   "name": "python3"
  },
  "language_info": {
   "codemirror_mode": {
    "name": "ipython",
    "version": 3
   },
   "file_extension": ".py",
   "mimetype": "text/x-python",
   "name": "python",
   "nbconvert_exporter": "python",
   "pygments_lexer": "ipython3",
   "version": "3.9.2"
  }
 },
 "nbformat": 4,
 "nbformat_minor": 5
}
