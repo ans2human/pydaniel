{
 "cells": [
  {
   "cell_type": "code",
   "execution_count": 62,
   "id": "stupid-stack",
   "metadata": {},
   "outputs": [],
   "source": [
    "# Tuples\n",
    "# Immutable\n",
    "# Indexed\n",
    "# Ordered\n",
    "# allows duplicates\n",
    "\n",
    "\n",
    "\n",
    "my_tuple = (\"ABC\", 1.12, 23, True, \"hello\")\n"
   ]
  },
  {
   "cell_type": "code",
   "execution_count": 63,
   "id": "metric-drain",
   "metadata": {},
   "outputs": [
    {
     "data": {
      "text/plain": [
       "tuple"
      ]
     },
     "execution_count": 63,
     "metadata": {},
     "output_type": "execute_result"
    }
   ],
   "source": [
    "type(my_tuple)"
   ]
  },
  {
   "cell_type": "code",
   "execution_count": 64,
   "id": "entitled-spell",
   "metadata": {},
   "outputs": [
    {
     "data": {
      "text/plain": [
       "1"
      ]
     },
     "execution_count": 64,
     "metadata": {},
     "output_type": "execute_result"
    }
   ],
   "source": [
    "my_tuple.count(\"ABC\")"
   ]
  },
  {
   "cell_type": "code",
   "execution_count": 65,
   "id": "greek-professor",
   "metadata": {},
   "outputs": [
    {
     "data": {
      "text/plain": [
       "5"
      ]
     },
     "execution_count": 65,
     "metadata": {},
     "output_type": "execute_result"
    }
   ],
   "source": [
    "len(my_tuple)"
   ]
  },
  {
   "cell_type": "code",
   "execution_count": 66,
   "id": "considered-strike",
   "metadata": {},
   "outputs": [
    {
     "name": "stdout",
     "output_type": "stream",
     "text": [
      "0 is the index of value>>> ABC\n",
      "1 is the index of value>>> 1.12\n",
      "2 is the index of value>>> 23\n",
      "3 is the index of value>>> True\n",
      "4 is the index of value>>> hello\n"
     ]
    }
   ],
   "source": [
    "# enumerate\n",
    "\n",
    "for x, y in enumerate(my_tuple):\n",
    "    print(x, \"is the index of value>>>\", y)"
   ]
  },
  {
   "cell_type": "code",
   "execution_count": 67,
   "id": "mature-multiple",
   "metadata": {},
   "outputs": [
    {
     "data": {
      "text/plain": [
       "23"
      ]
     },
     "execution_count": 67,
     "metadata": {},
     "output_type": "execute_result"
    }
   ],
   "source": [
    "my_tuple[2]"
   ]
  },
  {
   "cell_type": "code",
   "execution_count": 68,
   "id": "consecutive-section",
   "metadata": {},
   "outputs": [
    {
     "data": {
      "text/plain": [
       "2"
      ]
     },
     "execution_count": 68,
     "metadata": {},
     "output_type": "execute_result"
    }
   ],
   "source": [
    "my_tuple.index(23)"
   ]
  },
  {
   "cell_type": "code",
   "execution_count": 69,
   "id": "smart-sector",
   "metadata": {},
   "outputs": [
    {
     "data": {
      "text/plain": [
       "('ABC', 1.12, 23, True, 'hello')"
      ]
     },
     "execution_count": 69,
     "metadata": {},
     "output_type": "execute_result"
    }
   ],
   "source": [
    "my_tuple"
   ]
  },
  {
   "cell_type": "code",
   "execution_count": 70,
   "id": "growing-observer",
   "metadata": {},
   "outputs": [],
   "source": [
    "# unpacking\n",
    "a, *qw, w = my_tuple"
   ]
  },
  {
   "cell_type": "code",
   "execution_count": 71,
   "id": "after-hygiene",
   "metadata": {},
   "outputs": [
    {
     "data": {
      "text/plain": [
       "'ABC'"
      ]
     },
     "execution_count": 71,
     "metadata": {},
     "output_type": "execute_result"
    }
   ],
   "source": [
    "a"
   ]
  },
  {
   "cell_type": "code",
   "execution_count": 72,
   "id": "worthy-carnival",
   "metadata": {},
   "outputs": [
    {
     "data": {
      "text/plain": [
       "'hello'"
      ]
     },
     "execution_count": 72,
     "metadata": {},
     "output_type": "execute_result"
    }
   ],
   "source": [
    "w"
   ]
  },
  {
   "cell_type": "code",
   "execution_count": 73,
   "id": "existing-transport",
   "metadata": {},
   "outputs": [
    {
     "data": {
      "text/plain": [
       "[1.12, 23, True]"
      ]
     },
     "execution_count": 73,
     "metadata": {},
     "output_type": "execute_result"
    }
   ],
   "source": [
    "qw"
   ]
  },
  {
   "cell_type": "code",
   "execution_count": 74,
   "id": "hazardous-incentive",
   "metadata": {},
   "outputs": [],
   "source": [
    "# one workaround to edit tuple\n",
    "# you can add to tuples with another tuple\n",
    "\n",
    "my_second_tuple = (\"qwerty\", 34.56)\n",
    "\n",
    "my_tuple = my_tuple + my_second_tuple"
   ]
  },
  {
   "cell_type": "code",
   "execution_count": 75,
   "id": "operating-strike",
   "metadata": {},
   "outputs": [
    {
     "data": {
      "text/plain": [
       "('ABC', 1.12, 23, True, 'hello', 'qwerty', 34.56)"
      ]
     },
     "execution_count": 75,
     "metadata": {},
     "output_type": "execute_result"
    }
   ],
   "source": [
    "my_tuple"
   ]
  },
  {
   "cell_type": "code",
   "execution_count": 111,
   "id": "operating-craps",
   "metadata": {},
   "outputs": [],
   "source": [
    "# dictionary\n",
    "# its key and value pair\n",
    "# Doesn't allow duplicates\n",
    "# Ordered, from python version 3.7 and above\n",
    "# Indexed - No we don't \n",
    "\n",
    "\n",
    "my_dict = {\n",
    "            \"brand\": \"Skoda\",\n",
    "            \"model\": \"Laura\",\n",
    "            \"year\": 2020,\n",
    "            \"CC\": 2345.44,\n",
    "            ('is_passed',) : True \n",
    "          }"
   ]
  },
  {
   "cell_type": "code",
   "execution_count": 110,
   "id": "satisfactory-arthur",
   "metadata": {},
   "outputs": [
    {
     "data": {
      "text/plain": [
       "dict"
      ]
     },
     "execution_count": 110,
     "metadata": {},
     "output_type": "execute_result"
    }
   ],
   "source": [
    "type(my_dict)"
   ]
  },
  {
   "cell_type": "code",
   "execution_count": 108,
   "id": "natural-charm",
   "metadata": {},
   "outputs": [
    {
     "data": {
      "text/plain": [
       "{'brand': 'Skoda',\n",
       " 'model': 'Laura',\n",
       " 'year': 2020,\n",
       " 'CC': 2345.44,\n",
       " ('is_passed',): True}"
      ]
     },
     "execution_count": 108,
     "metadata": {},
     "output_type": "execute_result"
    }
   ],
   "source": [
    "my_dict"
   ]
  },
  {
   "cell_type": "code",
   "execution_count": 117,
   "id": "light-helmet",
   "metadata": {},
   "outputs": [
    {
     "name": "stdout",
     "output_type": "stream",
     "text": [
      "None\n"
     ]
    }
   ],
   "source": [
    "try:\n",
    "    print(my_dict[\"years\"])\n",
    "except KeyError:\n",
    "    print(\"None\")"
   ]
  },
  {
   "cell_type": "code",
   "execution_count": 118,
   "id": "proud-celebration",
   "metadata": {},
   "outputs": [
    {
     "name": "stdout",
     "output_type": "stream",
     "text": [
      "None\n"
     ]
    }
   ],
   "source": [
    "print(my_dict.get(\"years\"))"
   ]
  },
  {
   "cell_type": "code",
   "execution_count": 120,
   "id": "expanded-collins",
   "metadata": {},
   "outputs": [],
   "source": [
    "# keys\n",
    "# values\n",
    "# items"
   ]
  },
  {
   "cell_type": "code",
   "execution_count": 122,
   "id": "surgical-diversity",
   "metadata": {},
   "outputs": [
    {
     "data": {
      "text/plain": [
       "['brand', 'model', 'year', 'CC', ('is_passed',)]"
      ]
     },
     "execution_count": 122,
     "metadata": {},
     "output_type": "execute_result"
    }
   ],
   "source": [
    "#keys\n",
    "\n",
    "list(my_dict.keys())"
   ]
  },
  {
   "cell_type": "code",
   "execution_count": 123,
   "id": "needed-distance",
   "metadata": {},
   "outputs": [
    {
     "data": {
      "text/plain": [
       "['Skoda', 'Laura', 2020, 2345.44, True]"
      ]
     },
     "execution_count": 123,
     "metadata": {},
     "output_type": "execute_result"
    }
   ],
   "source": [
    "# values\n",
    "\n",
    "list(my_dict.values())"
   ]
  },
  {
   "cell_type": "code",
   "execution_count": 125,
   "id": "private-remove",
   "metadata": {},
   "outputs": [
    {
     "data": {
      "text/plain": [
       "[('brand', 'Skoda'),\n",
       " ('model', 'Laura'),\n",
       " ('year', 2020),\n",
       " ('CC', 2345.44),\n",
       " (('is_passed',), True)]"
      ]
     },
     "execution_count": 125,
     "metadata": {},
     "output_type": "execute_result"
    }
   ],
   "source": [
    "#items\n",
    "\n",
    "list(my_dict.items())"
   ]
  },
  {
   "cell_type": "code",
   "execution_count": 126,
   "id": "electric-barcelona",
   "metadata": {},
   "outputs": [],
   "source": [
    "\n",
    "car = {\n",
    "    'brand':[\"ford\", 'volksvagen', \"toyota\", \"suzuki\", \"hyundai\"],\n",
    "    'model':[\"mustang\", \"vento\", \"fortuner\", \"baleno\", 'verna'],\n",
    "    'year': [1999, 2020, 2012, 2011, 2009],\n",
    "    \"cc\": [1999.45, 2020.33, 2012.22, 2011.56, 2009.76]\n",
    "}"
   ]
  },
  {
   "cell_type": "code",
   "execution_count": 127,
   "id": "pleasant-yorkshire",
   "metadata": {},
   "outputs": [
    {
     "data": {
      "text/plain": [
       "{'brand': ['ford', 'volksvagen', 'toyota', 'suzuki', 'hyundai'],\n",
       " 'model': ['mustang', 'vento', 'fortuner', 'baleno', 'verna'],\n",
       " 'year': [1999, 2020, 2012, 2011, 2009],\n",
       " 'cc': [1999.45, 2020.33, 2012.22, 2011.56, 2009.76]}"
      ]
     },
     "execution_count": 127,
     "metadata": {},
     "output_type": "execute_result"
    }
   ],
   "source": [
    "car"
   ]
  },
  {
   "cell_type": "code",
   "execution_count": 131,
   "id": "valuable-participation",
   "metadata": {},
   "outputs": [
    {
     "data": {
      "text/html": [
       "<div>\n",
       "<style scoped>\n",
       "    .dataframe tbody tr th:only-of-type {\n",
       "        vertical-align: middle;\n",
       "    }\n",
       "\n",
       "    .dataframe tbody tr th {\n",
       "        vertical-align: top;\n",
       "    }\n",
       "\n",
       "    .dataframe thead th {\n",
       "        text-align: right;\n",
       "    }\n",
       "</style>\n",
       "<table border=\"1\" class=\"dataframe\">\n",
       "  <thead>\n",
       "    <tr style=\"text-align: right;\">\n",
       "      <th></th>\n",
       "      <th>brand</th>\n",
       "      <th>model</th>\n",
       "      <th>year</th>\n",
       "      <th>cc</th>\n",
       "    </tr>\n",
       "  </thead>\n",
       "  <tbody>\n",
       "    <tr>\n",
       "      <th>0</th>\n",
       "      <td>ford</td>\n",
       "      <td>mustang</td>\n",
       "      <td>1999</td>\n",
       "      <td>1999.45</td>\n",
       "    </tr>\n",
       "    <tr>\n",
       "      <th>1</th>\n",
       "      <td>volksvagen</td>\n",
       "      <td>vento</td>\n",
       "      <td>2020</td>\n",
       "      <td>2020.33</td>\n",
       "    </tr>\n",
       "    <tr>\n",
       "      <th>2</th>\n",
       "      <td>toyota</td>\n",
       "      <td>fortuner</td>\n",
       "      <td>2012</td>\n",
       "      <td>2012.22</td>\n",
       "    </tr>\n",
       "    <tr>\n",
       "      <th>3</th>\n",
       "      <td>suzuki</td>\n",
       "      <td>baleno</td>\n",
       "      <td>2011</td>\n",
       "      <td>2011.56</td>\n",
       "    </tr>\n",
       "    <tr>\n",
       "      <th>4</th>\n",
       "      <td>hyundai</td>\n",
       "      <td>verna</td>\n",
       "      <td>2009</td>\n",
       "      <td>2009.76</td>\n",
       "    </tr>\n",
       "  </tbody>\n",
       "</table>\n",
       "</div>"
      ],
      "text/plain": [
       "        brand     model  year       cc\n",
       "0        ford   mustang  1999  1999.45\n",
       "1  volksvagen     vento  2020  2020.33\n",
       "2      toyota  fortuner  2012  2012.22\n",
       "3      suzuki    baleno  2011  2011.56\n",
       "4     hyundai     verna  2009  2009.76"
      ]
     },
     "execution_count": 131,
     "metadata": {},
     "output_type": "execute_result"
    }
   ],
   "source": [
    "import pandas as pd\n",
    "\n",
    "data_frame = pd.DataFrame(car)\n",
    "data_frame"
   ]
  },
  {
   "cell_type": "code",
   "execution_count": null,
   "id": "funny-distribution",
   "metadata": {},
   "outputs": [],
   "source": [
    "# update\n",
    "# few methods\n"
   ]
  }
 ],
 "metadata": {
  "kernelspec": {
   "display_name": "Python 3",
   "language": "python",
   "name": "python3"
  },
  "language_info": {
   "codemirror_mode": {
    "name": "ipython",
    "version": 3
   },
   "file_extension": ".py",
   "mimetype": "text/x-python",
   "name": "python",
   "nbconvert_exporter": "python",
   "pygments_lexer": "ipython3",
   "version": "3.9.2"
  }
 },
 "nbformat": 4,
 "nbformat_minor": 5
}
