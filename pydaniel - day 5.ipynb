{
 "cells": [
  {
   "cell_type": "code",
   "execution_count": 6,
   "id": "acoustic-programmer",
   "metadata": {},
   "outputs": [],
   "source": [
    "#sets\n",
    "# does not allow duplicate elements\n",
    "# unordered : doesn't preserve the actual order\n",
    "# unindexed\n",
    "#unchangeable\n",
    "\n",
    "\n",
    "my_set = {2, 8, 3, 2, 9}"
   ]
  },
  {
   "cell_type": "code",
   "execution_count": 7,
   "id": "descending-niger",
   "metadata": {},
   "outputs": [
    {
     "data": {
      "text/plain": [
       "{2, 3, 8, 9}"
      ]
     },
     "execution_count": 7,
     "metadata": {},
     "output_type": "execute_result"
    }
   ],
   "source": [
    "my_set"
   ]
  },
  {
   "cell_type": "code",
   "execution_count": 8,
   "id": "subtle-corporation",
   "metadata": {},
   "outputs": [],
   "source": [
    "my_set = {\"Daniel\", 23, \"Romania\", \"Europe\", \"Daniel\", 23}"
   ]
  },
  {
   "cell_type": "code",
   "execution_count": 9,
   "id": "planned-butler",
   "metadata": {},
   "outputs": [
    {
     "data": {
      "text/plain": [
       "{23, 'Daniel', 'Europe', 'Romania'}"
      ]
     },
     "execution_count": 9,
     "metadata": {},
     "output_type": "execute_result"
    }
   ],
   "source": [
    "my_set"
   ]
  },
  {
   "cell_type": "code",
   "execution_count": 15,
   "id": "historic-standing",
   "metadata": {},
   "outputs": [],
   "source": [
    "from random import shuffle\n",
    "my_list = list(range(2, 17, 2))\n",
    "shuffle(my_list)"
   ]
  },
  {
   "cell_type": "code",
   "execution_count": 16,
   "id": "weighted-intent",
   "metadata": {},
   "outputs": [
    {
     "data": {
      "text/plain": [
       "[4, 8, 2, 12, 6, 16, 10, 14]"
      ]
     },
     "execution_count": 16,
     "metadata": {},
     "output_type": "execute_result"
    }
   ],
   "source": [
    "my_list"
   ]
  },
  {
   "cell_type": "code",
   "execution_count": 18,
   "id": "maritime-strengthening",
   "metadata": {},
   "outputs": [
    {
     "data": {
      "text/plain": [
       "{2, 4, 6, 8, 10, 12, 14, 16}"
      ]
     },
     "execution_count": 18,
     "metadata": {},
     "output_type": "execute_result"
    }
   ],
   "source": [
    "set(my_list)"
   ]
  },
  {
   "cell_type": "code",
   "execution_count": 19,
   "id": "vocational-consultancy",
   "metadata": {},
   "outputs": [],
   "source": [
    "my_set = {\"a\", \"ab\", \"aa\", \"ag\", \"ac\"}"
   ]
  },
  {
   "cell_type": "code",
   "execution_count": 20,
   "id": "latter-freeware",
   "metadata": {},
   "outputs": [
    {
     "data": {
      "text/plain": [
       "{'a', 'aa', 'ab', 'ac', 'ag'}"
      ]
     },
     "execution_count": 20,
     "metadata": {},
     "output_type": "execute_result"
    }
   ],
   "source": [
    "my_set"
   ]
  },
  {
   "cell_type": "code",
   "execution_count": 21,
   "id": "compatible-tracker",
   "metadata": {},
   "outputs": [
    {
     "data": {
      "text/plain": [
       "{'a', 'aa', 'ab', 'ac', 'ag'}"
      ]
     },
     "execution_count": 21,
     "metadata": {},
     "output_type": "execute_result"
    }
   ],
   "source": [
    "my_set"
   ]
  },
  {
   "cell_type": "code",
   "execution_count": 22,
   "id": "enabling-tutorial",
   "metadata": {},
   "outputs": [],
   "source": [
    "my_set.add(\"dcjne\")"
   ]
  },
  {
   "cell_type": "code",
   "execution_count": 23,
   "id": "foster-night",
   "metadata": {},
   "outputs": [
    {
     "data": {
      "text/plain": [
       "{'a', 'aa', 'ab', 'ac', 'ag', 'dcjne'}"
      ]
     },
     "execution_count": 23,
     "metadata": {},
     "output_type": "execute_result"
    }
   ],
   "source": [
    "my_set"
   ]
  },
  {
   "cell_type": "code",
   "execution_count": 24,
   "id": "detailed-student",
   "metadata": {},
   "outputs": [],
   "source": [
    "my_set = {\"Daniel\", 23, \"Romania\", \"Europe\", \"Daniel\", 23}"
   ]
  },
  {
   "cell_type": "code",
   "execution_count": 25,
   "id": "guilty-november",
   "metadata": {},
   "outputs": [],
   "source": [
    "my_set.update({\"bucharest\"}) # update in dictionary only expects dictionary but update in set accepts any collection type"
   ]
  },
  {
   "cell_type": "code",
   "execution_count": 26,
   "id": "phantom-causing",
   "metadata": {},
   "outputs": [
    {
     "data": {
      "text/plain": [
       "{23, 'Daniel', 'Europe', 'Romania', 'bucharest'}"
      ]
     },
     "execution_count": 26,
     "metadata": {},
     "output_type": "execute_result"
    }
   ],
   "source": [
    "my_set"
   ]
  },
  {
   "cell_type": "code",
   "execution_count": 27,
   "id": "statutory-mistress",
   "metadata": {},
   "outputs": [],
   "source": [
    "my_set.update([1,2,3])"
   ]
  },
  {
   "cell_type": "code",
   "execution_count": 28,
   "id": "after-charles",
   "metadata": {},
   "outputs": [
    {
     "data": {
      "text/plain": [
       "{1, 2, 23, 3, 'Daniel', 'Europe', 'Romania', 'bucharest'}"
      ]
     },
     "execution_count": 28,
     "metadata": {},
     "output_type": "execute_result"
    }
   ],
   "source": [
    "my_set"
   ]
  },
  {
   "cell_type": "code",
   "execution_count": 30,
   "id": "subtle-standard",
   "metadata": {},
   "outputs": [
    {
     "ename": "KeyError",
     "evalue": "2",
     "output_type": "error",
     "traceback": [
      "\u001b[1;31m---------------------------------------------------------------------------\u001b[0m",
      "\u001b[1;31mKeyError\u001b[0m                                  Traceback (most recent call last)",
      "\u001b[1;32m<ipython-input-30-eca2603880b5>\u001b[0m in \u001b[0;36m<module>\u001b[1;34m\u001b[0m\n\u001b[1;32m----> 1\u001b[1;33m \u001b[0mmy_set\u001b[0m\u001b[1;33m.\u001b[0m\u001b[0mremove\u001b[0m\u001b[1;33m(\u001b[0m\u001b[1;36m2\u001b[0m\u001b[1;33m)\u001b[0m\u001b[1;33m\u001b[0m\u001b[1;33m\u001b[0m\u001b[0m\n\u001b[0m",
      "\u001b[1;31mKeyError\u001b[0m: 2"
     ]
    }
   ],
   "source": [
    "my_set.remove(2) # remove gives error if element doesn't exist"
   ]
  },
  {
   "cell_type": "code",
   "execution_count": 31,
   "id": "adopted-starter",
   "metadata": {},
   "outputs": [],
   "source": [
    "my_set.discard(2) # discard will not give an error if element is not present"
   ]
  },
  {
   "cell_type": "code",
   "execution_count": 32,
   "id": "prime-honor",
   "metadata": {},
   "outputs": [
    {
     "data": {
      "text/plain": [
       "{1, 23, 3, 'Daniel', 'Europe', 'Romania', 'bucharest'}"
      ]
     },
     "execution_count": 32,
     "metadata": {},
     "output_type": "execute_result"
    }
   ],
   "source": [
    "my_set"
   ]
  },
  {
   "cell_type": "code",
   "execution_count": 34,
   "id": "sitting-aruba",
   "metadata": {},
   "outputs": [],
   "source": [
    "my_set.discard(3)"
   ]
  },
  {
   "cell_type": "code",
   "execution_count": 35,
   "id": "rocky-metropolitan",
   "metadata": {},
   "outputs": [
    {
     "data": {
      "text/plain": [
       "{1, 23, 'Daniel', 'Europe', 'Romania', 'bucharest'}"
      ]
     },
     "execution_count": 35,
     "metadata": {},
     "output_type": "execute_result"
    }
   ],
   "source": [
    "my_set"
   ]
  },
  {
   "cell_type": "code",
   "execution_count": 36,
   "id": "alien-watershed",
   "metadata": {},
   "outputs": [],
   "source": [
    "my_set.clear()"
   ]
  },
  {
   "cell_type": "code",
   "execution_count": 37,
   "id": "incredible-child",
   "metadata": {},
   "outputs": [
    {
     "data": {
      "text/plain": [
       "set()"
      ]
     },
     "execution_count": 37,
     "metadata": {},
     "output_type": "execute_result"
    }
   ],
   "source": [
    "my_set"
   ]
  },
  {
   "cell_type": "code",
   "execution_count": 46,
   "id": "floral-bobby",
   "metadata": {},
   "outputs": [],
   "source": [
    "my_set.add(11)"
   ]
  },
  {
   "cell_type": "code",
   "execution_count": 47,
   "id": "right-atmosphere",
   "metadata": {},
   "outputs": [
    {
     "data": {
      "text/plain": [
       "[4, 8, 2, 12, 6, 16, 10, 14]"
      ]
     },
     "execution_count": 47,
     "metadata": {},
     "output_type": "execute_result"
    }
   ],
   "source": [
    "my_list\n"
   ]
  },
  {
   "cell_type": "code",
   "execution_count": 48,
   "id": "tracked-genome",
   "metadata": {},
   "outputs": [],
   "source": [
    "my_set.update(my_list)"
   ]
  },
  {
   "cell_type": "code",
   "execution_count": 49,
   "id": "understanding-tooth",
   "metadata": {},
   "outputs": [
    {
     "data": {
      "text/plain": [
       "{1, 2, 4, 6, 8, 10, 11, 12, 14, 16}"
      ]
     },
     "execution_count": 49,
     "metadata": {},
     "output_type": "execute_result"
    }
   ],
   "source": [
    "my_set"
   ]
  },
  {
   "cell_type": "code",
   "execution_count": 52,
   "id": "enclosed-abuse",
   "metadata": {},
   "outputs": [
    {
     "name": "stdout",
     "output_type": "stream",
     "text": [
      "not divisible by 2>>>> 1\n",
      "2\n",
      "4\n",
      "6\n",
      "8\n",
      "10\n",
      "not divisible by 2>>>> 11\n",
      "12\n",
      "14\n",
      "16\n"
     ]
    }
   ],
   "source": [
    "for x in my_set:\n",
    "    if x%2==0:\n",
    "        print(x)\n",
    "    else:\n",
    "        print(\"not divisible by 2>>>>\",x)"
   ]
  },
  {
   "cell_type": "code",
   "execution_count": 54,
   "id": "seventh-norman",
   "metadata": {},
   "outputs": [
    {
     "data": {
      "text/plain": [
       "{2, 4, 6, 8, 10, 12, 14, 16}"
      ]
     },
     "execution_count": 54,
     "metadata": {},
     "output_type": "execute_result"
    }
   ],
   "source": [
    "# comprehension\n",
    "{x for x  in my_set if x%2==0}"
   ]
  },
  {
   "cell_type": "code",
   "execution_count": 55,
   "id": "delayed-solomon",
   "metadata": {},
   "outputs": [],
   "source": [
    "fruits = {\"mango\", \"apple\", \"orange\", \"peach\"}\n",
    "\n",
    "veggies = {\"banana\", \"mango\", \"tomato\", \"potato\"}"
   ]
  },
  {
   "cell_type": "code",
   "execution_count": 58,
   "id": "finite-scout",
   "metadata": {},
   "outputs": [
    {
     "data": {
      "text/plain": [
       "{'apple', 'orange', 'peach'}"
      ]
     },
     "execution_count": 58,
     "metadata": {},
     "output_type": "execute_result"
    }
   ],
   "source": [
    "#difference\n",
    "\n",
    "fruits.difference(veggies)"
   ]
  },
  {
   "cell_type": "code",
   "execution_count": 59,
   "id": "brown-instruction",
   "metadata": {},
   "outputs": [
    {
     "data": {
      "text/plain": [
       "{'apple', 'mango', 'orange', 'peach'}"
      ]
     },
     "execution_count": 59,
     "metadata": {},
     "output_type": "execute_result"
    }
   ],
   "source": [
    "fruits"
   ]
  },
  {
   "cell_type": "code",
   "execution_count": 60,
   "id": "invalid-contribution",
   "metadata": {},
   "outputs": [],
   "source": [
    "#difference_update\n",
    "\n",
    "fruits = {\"mango\", \"apple\", \"orange\", \"peach\"}\n",
    "veggies = {\"banana\", \"mango\", \"tomato\", \"potato\"}\n",
    "\n",
    "fruits.difference_update(veggies)"
   ]
  },
  {
   "cell_type": "code",
   "execution_count": 61,
   "id": "liable-formation",
   "metadata": {},
   "outputs": [
    {
     "data": {
      "text/plain": [
       "{'apple', 'orange', 'peach'}"
      ]
     },
     "execution_count": 61,
     "metadata": {},
     "output_type": "execute_result"
    }
   ],
   "source": [
    "fruits"
   ]
  },
  {
   "cell_type": "code",
   "execution_count": 64,
   "id": "polar-harassment",
   "metadata": {},
   "outputs": [],
   "source": [
    "# intersection\n",
    "\n",
    "\n",
    "fruits = {\"mango\", \"apple\", \"orange\", \"peach\"}\n",
    "veggies = {\"banana\", \"mango\", \"tomato\", \"potato\"}\n",
    "\n",
    "\n",
    "c = fruits.intersection(veggies)"
   ]
  },
  {
   "cell_type": "code",
   "execution_count": 65,
   "id": "convertible-missouri",
   "metadata": {},
   "outputs": [
    {
     "data": {
      "text/plain": [
       "{'mango'}"
      ]
     },
     "execution_count": 65,
     "metadata": {},
     "output_type": "execute_result"
    }
   ],
   "source": [
    "c"
   ]
  },
  {
   "cell_type": "code",
   "execution_count": 66,
   "id": "sporting-spotlight",
   "metadata": {},
   "outputs": [
    {
     "data": {
      "text/plain": [
       "{'apple', 'mango', 'orange', 'peach'}"
      ]
     },
     "execution_count": 66,
     "metadata": {},
     "output_type": "execute_result"
    }
   ],
   "source": [
    "fruits"
   ]
  },
  {
   "cell_type": "code",
   "execution_count": 67,
   "id": "established-april",
   "metadata": {},
   "outputs": [],
   "source": [
    "# intersection_update\n",
    "\n",
    "fruits = {\"mango\", \"apple\", \"orange\", \"peach\"}\n",
    "veggies = {\"banana\", \"mango\", \"tomato\", \"potato\"}\n",
    "\n",
    "\n",
    "fruits.intersection_update(veggies)"
   ]
  },
  {
   "cell_type": "code",
   "execution_count": 68,
   "id": "alert-integration",
   "metadata": {},
   "outputs": [
    {
     "data": {
      "text/plain": [
       "{'mango'}"
      ]
     },
     "execution_count": 68,
     "metadata": {},
     "output_type": "execute_result"
    }
   ],
   "source": [
    "fruits"
   ]
  },
  {
   "cell_type": "code",
   "execution_count": 72,
   "id": "german-encounter",
   "metadata": {},
   "outputs": [
    {
     "data": {
      "text/plain": [
       "False"
      ]
     },
     "execution_count": 72,
     "metadata": {},
     "output_type": "execute_result"
    }
   ],
   "source": [
    "# isdisjoint\n",
    "# returns False if any element from a set is present in another set\n",
    "\n",
    "fruits = {\"mango\", \"apple\", \"orange\", \"peach\"}\n",
    "veggies = {\"banana\",\"mango\", \"tomato\", \"potato\"}\n",
    "\n",
    "fruits.isdisjoint(veggies)"
   ]
  },
  {
   "cell_type": "code",
   "execution_count": 76,
   "id": "southern-startup",
   "metadata": {},
   "outputs": [
    {
     "data": {
      "text/plain": [
       "True"
      ]
     },
     "execution_count": 76,
     "metadata": {},
     "output_type": "execute_result"
    }
   ],
   "source": [
    "# issubset\n",
    "\n",
    "\n",
    "x = [1,2,3,4,5]\n",
    "y = [3,4]\n",
    "\n",
    "set(y).issubset(set(x))"
   ]
  },
  {
   "cell_type": "code",
   "execution_count": 79,
   "id": "incorrect-nickel",
   "metadata": {},
   "outputs": [
    {
     "data": {
      "text/plain": [
       "True"
      ]
     },
     "execution_count": 79,
     "metadata": {},
     "output_type": "execute_result"
    }
   ],
   "source": [
    "# issubset\n",
    "\n",
    "\n",
    "x = [1,2,3,4,5]\n",
    "y = [3,4]\n",
    "\n",
    "set(x).issuperset(set(y))"
   ]
  },
  {
   "cell_type": "code",
   "execution_count": 82,
   "id": "frozen-presence",
   "metadata": {},
   "outputs": [
    {
     "name": "stdout",
     "output_type": "stream",
     "text": [
      "{'banana', 'tomato', 'potato', 'apple', 'peach', 'orange'}\n"
     ]
    },
    {
     "data": {
      "text/plain": [
       "{'apple', 'mango', 'orange', 'peach'}"
      ]
     },
     "execution_count": 82,
     "metadata": {},
     "output_type": "execute_result"
    }
   ],
   "source": [
    "#symmeteric_Difference\n",
    "\n",
    "fruits = {\"mango\", \"apple\", \"orange\", \"peach\"}\n",
    "veggies = {\"banana\", \"mango\", \"tomato\", \"potato\"}\n",
    "\n",
    "\n",
    "print(fruits.symmetric_difference(veggies))\n",
    "fruits"
   ]
  },
  {
   "cell_type": "code",
   "execution_count": 83,
   "id": "posted-riverside",
   "metadata": {},
   "outputs": [
    {
     "name": "stdout",
     "output_type": "stream",
     "text": [
      "None\n"
     ]
    },
    {
     "data": {
      "text/plain": [
       "{'apple', 'banana', 'orange', 'peach', 'potato', 'tomato'}"
      ]
     },
     "execution_count": 83,
     "metadata": {},
     "output_type": "execute_result"
    }
   ],
   "source": [
    "#symmeteric_Difference_update\n",
    "\n",
    "\n",
    "fruits = {\"mango\", \"apple\", \"orange\", \"peach\"}\n",
    "veggies = {\"banana\", \"mango\", \"tomato\", \"potato\"}\n",
    "\n",
    "\n",
    "print(fruits.symmetric_difference_update(veggies))\n",
    "fruits"
   ]
  },
  {
   "cell_type": "code",
   "execution_count": 84,
   "id": "assigned-activation",
   "metadata": {},
   "outputs": [
    {
     "name": "stdout",
     "output_type": "stream",
     "text": [
      "{'banana', 'tomato', 'apple', 'potato', 'peach', 'mango', 'orange'}\n"
     ]
    },
    {
     "data": {
      "text/plain": [
       "{'apple', 'mango', 'orange', 'peach'}"
      ]
     },
     "execution_count": 84,
     "metadata": {},
     "output_type": "execute_result"
    }
   ],
   "source": [
    "# union\n",
    "\n",
    "\n",
    "\n",
    "fruits = {\"mango\", \"apple\", \"orange\", \"peach\"}\n",
    "veggies = {\"banana\", \"mango\", \"tomato\", \"potato\"}\n",
    "\n",
    "\n",
    "\n",
    "print(fruits.union(veggies))\n",
    "fruits"
   ]
  },
  {
   "cell_type": "code",
   "execution_count": null,
   "id": "experienced-constraint",
   "metadata": {},
   "outputs": [],
   "source": []
  }
 ],
 "metadata": {
  "kernelspec": {
   "display_name": "Python 3",
   "language": "python",
   "name": "python3"
  },
  "language_info": {
   "codemirror_mode": {
    "name": "ipython",
    "version": 3
   },
   "file_extension": ".py",
   "mimetype": "text/x-python",
   "name": "python",
   "nbconvert_exporter": "python",
   "pygments_lexer": "ipython3",
   "version": "3.9.2"
  }
 },
 "nbformat": 4,
 "nbformat_minor": 5
}
