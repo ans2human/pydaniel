{
 "cells": [
  {
   "cell_type": "code",
   "execution_count": 2,
   "id": "committed-regulation",
   "metadata": {},
   "outputs": [],
   "source": [
    "# python, is a OOPS based language\n",
    "# OOPS : object oriented Programming\n",
    "# created by Guido Van Rossum\n",
    "# created in 1991\n",
    "# easy to learn, based on english"
   ]
  },
  {
   "cell_type": "code",
   "execution_count": 4,
   "id": "destroyed-squad",
   "metadata": {},
   "outputs": [
    {
     "name": "stdout",
     "output_type": "stream",
     "text": [
      "Daniel\n"
     ]
    }
   ],
   "source": [
    "abc = \"Daniel\"\n",
    "print(abc)"
   ]
  },
  {
   "cell_type": "code",
   "execution_count": 11,
   "id": "alive-profession",
   "metadata": {},
   "outputs": [],
   "source": [
    "# Comments\n",
    "# Single line and Multi line\n",
    "\n",
    "\n",
    "\n",
    "def some_func(num1, num2):\n",
    "    # below is the docstring of this fucntion\n",
    "    \"\"\"this is a addtion kwdb\n",
    "    wfojwefow\n",
    "    wdjowbocw\n",
    "    wodcoew\n",
    "    wohoeo\n",
    "    based function\"\"\"\n",
    "    return num1 + num2\n"
   ]
  },
  {
   "cell_type": "code",
   "execution_count": 12,
   "id": "rapid-lyric",
   "metadata": {},
   "outputs": [
    {
     "data": {
      "text/plain": [
       "9"
      ]
     },
     "execution_count": 12,
     "metadata": {},
     "output_type": "execute_result"
    }
   ],
   "source": [
    "some_func(4, 5)"
   ]
  },
  {
   "cell_type": "code",
   "execution_count": 15,
   "id": "dress-cornwall",
   "metadata": {},
   "outputs": [
    {
     "data": {
      "text/plain": [
       "['__annotations__',\n",
       " '__call__',\n",
       " '__class__',\n",
       " '__closure__',\n",
       " '__code__',\n",
       " '__defaults__',\n",
       " '__delattr__',\n",
       " '__dict__',\n",
       " '__dir__',\n",
       " '__doc__',\n",
       " '__eq__',\n",
       " '__format__',\n",
       " '__ge__',\n",
       " '__get__',\n",
       " '__getattribute__',\n",
       " '__globals__',\n",
       " '__gt__',\n",
       " '__hash__',\n",
       " '__init__',\n",
       " '__init_subclass__',\n",
       " '__kwdefaults__',\n",
       " '__le__',\n",
       " '__lt__',\n",
       " '__module__',\n",
       " '__name__',\n",
       " '__ne__',\n",
       " '__new__',\n",
       " '__qualname__',\n",
       " '__reduce__',\n",
       " '__reduce_ex__',\n",
       " '__repr__',\n",
       " '__setattr__',\n",
       " '__sizeof__',\n",
       " '__str__',\n",
       " '__subclasshook__']"
      ]
     },
     "execution_count": 15,
     "metadata": {},
     "output_type": "execute_result"
    }
   ],
   "source": [
    "# dir is a method which extracts all the available methods of class, fucntion, method or any object.\n",
    "dir(some_func)"
   ]
  },
  {
   "cell_type": "code",
   "execution_count": 16,
   "id": "logical-booking",
   "metadata": {},
   "outputs": [
    {
     "data": {
      "text/plain": [
       "'this is a addtion kwdb\\n    wfojwefow\\n    wdjowbocw\\n    wodcoew\\n    wohoeo\\n    based function'"
      ]
     },
     "execution_count": 16,
     "metadata": {},
     "output_type": "execute_result"
    }
   ],
   "source": [
    "some_func.__doc__"
   ]
  },
  {
   "cell_type": "code",
   "execution_count": 52,
   "id": "governing-league",
   "metadata": {},
   "outputs": [],
   "source": [
    "# Variables\n",
    "\n",
    "# three conventions\n",
    "# 1 - snake_case\n",
    "\n",
    "my_list = [\"how\", 23, 'is', True, 88.9]\n",
    "\n",
    "# single quotes and double quotes are the same in python\n",
    "\n",
    "# 2 - CamelCase\n",
    "\n",
    "myList = [\"how\", 23, 'is', True, 88.9]\n",
    "\n",
    "\n",
    "# 3 - Pascal Case\n",
    "MyList = [\"how\", 23, 'is', True, 88.9]\n",
    "\n",
    "# do's and Don'ts\n",
    "\n",
    "# varibales should not start with a Number\n",
    "# variable can not start with a Symbol\n",
    "_abcd = 456\n"
   ]
  },
  {
   "cell_type": "code",
   "execution_count": 53,
   "id": "sunrise-contamination",
   "metadata": {},
   "outputs": [],
   "source": [
    "# Data types\n",
    "# string\n",
    "\n",
    "abc = 'Python is a \"OOPS\" based language'"
   ]
  },
  {
   "cell_type": "code",
   "execution_count": 54,
   "id": "dying-settlement",
   "metadata": {},
   "outputs": [
    {
     "data": {
      "text/plain": [
       "12"
      ]
     },
     "execution_count": 54,
     "metadata": {},
     "output_type": "execute_result"
    }
   ],
   "source": [
    "# integer\n",
    "\n",
    "q = 12\n",
    "q"
   ]
  },
  {
   "cell_type": "code",
   "execution_count": 55,
   "id": "daily-eclipse",
   "metadata": {},
   "outputs": [],
   "source": [
    "# float \n",
    "# integer with a decimal\n",
    "\n",
    "w = 12.1"
   ]
  },
  {
   "cell_type": "code",
   "execution_count": 56,
   "id": "horizontal-healthcare",
   "metadata": {},
   "outputs": [
    {
     "data": {
      "text/plain": [
       "float"
      ]
     },
     "execution_count": 56,
     "metadata": {},
     "output_type": "execute_result"
    }
   ],
   "source": [
    "type(w)"
   ]
  },
  {
   "cell_type": "code",
   "execution_count": 57,
   "id": "virgin-russian",
   "metadata": {},
   "outputs": [],
   "source": [
    "# boolean\n",
    "r = True"
   ]
  },
  {
   "cell_type": "code",
   "execution_count": 58,
   "id": "electrical-disability",
   "metadata": {},
   "outputs": [
    {
     "data": {
      "text/plain": [
       "bool"
      ]
     },
     "execution_count": 58,
     "metadata": {},
     "output_type": "execute_result"
    }
   ],
   "source": [
    "type(r)"
   ]
  },
  {
   "cell_type": "code",
   "execution_count": 59,
   "id": "cathedral-context",
   "metadata": {},
   "outputs": [],
   "source": [
    "# Sequence/Collection Datatypes\n",
    "# List \n",
    "# Tuple\n",
    "# Set\n",
    "# Dictionary"
   ]
  },
  {
   "cell_type": "code",
   "execution_count": 60,
   "id": "gorgeous-peninsula",
   "metadata": {},
   "outputs": [
    {
     "data": {
      "text/plain": [
       "['how', 23, 'is', True, 88.9]"
      ]
     },
     "execution_count": 60,
     "metadata": {},
     "output_type": "execute_result"
    }
   ],
   "source": [
    "# list\n",
    "# elements between square brackets are list\n",
    "# Ordered, mutable and Indexed\n",
    "my_list\n",
    "# index\n",
    "# ['how', 23, 'is', True, 88.9]\n",
    "#    0     1    2    3     4 "
   ]
  },
  {
   "cell_type": "code",
   "execution_count": 61,
   "id": "incorporate-valuation",
   "metadata": {},
   "outputs": [],
   "source": [
    "my_list[4] = 98.99"
   ]
  },
  {
   "cell_type": "code",
   "execution_count": 62,
   "id": "adjacent-vegetation",
   "metadata": {},
   "outputs": [
    {
     "data": {
      "text/plain": [
       "['how', 23, 'is', True, 98.99]"
      ]
     },
     "execution_count": 62,
     "metadata": {},
     "output_type": "execute_result"
    }
   ],
   "source": [
    "my_list"
   ]
  },
  {
   "cell_type": "code",
   "execution_count": 67,
   "id": "comfortable-cherry",
   "metadata": {},
   "outputs": [
    {
     "data": {
      "text/plain": [
       "['guido']"
      ]
     },
     "execution_count": 67,
     "metadata": {},
     "output_type": "execute_result"
    }
   ],
   "source": [
    "# list methods\n",
    "# append\n",
    "# adds elements to the end of list\n",
    "\n",
    "my_emp_list = []\n",
    "\n",
    "my_emp_list.append(\"guido\")\n",
    "my_emp_list"
   ]
  },
  {
   "cell_type": "code",
   "execution_count": 68,
   "id": "trained-salad",
   "metadata": {},
   "outputs": [
    {
     "data": {
      "text/plain": [
       "['guido', 'rossum']"
      ]
     },
     "execution_count": 68,
     "metadata": {},
     "output_type": "execute_result"
    }
   ],
   "source": [
    "my_emp_list.append(\"rossum\")\n",
    "my_emp_list"
   ]
  },
  {
   "cell_type": "code",
   "execution_count": 69,
   "id": "periodic-economy",
   "metadata": {},
   "outputs": [
    {
     "data": {
      "text/plain": [
       "['guido', 'van', 'rossum']"
      ]
     },
     "execution_count": 69,
     "metadata": {},
     "output_type": "execute_result"
    }
   ],
   "source": [
    "# insert \n",
    "# inserts elments in list at your prescribed index\n",
    "\n",
    "my_emp_list.insert(1, \"van\")\n",
    "my_emp_list"
   ]
  },
  {
   "cell_type": "code",
   "execution_count": 81,
   "id": "protecting-dance",
   "metadata": {},
   "outputs": [],
   "source": [
    "qw = list(range(1, 1100, 11))"
   ]
  },
  {
   "cell_type": "code",
   "execution_count": 83,
   "id": "absolute-globe",
   "metadata": {},
   "outputs": [],
   "source": [
    "qw.remove(947)"
   ]
  },
  {
   "cell_type": "code",
   "execution_count": 85,
   "id": "banned-angle",
   "metadata": {},
   "outputs": [
    {
     "data": {
      "text/plain": [
       "100"
      ]
     },
     "execution_count": 85,
     "metadata": {},
     "output_type": "execute_result"
    }
   ],
   "source": [
    "qw.pop(9)"
   ]
  },
  {
   "cell_type": "code",
   "execution_count": 86,
   "id": "dangerous-portal",
   "metadata": {},
   "outputs": [
    {
     "data": {
      "text/plain": [
       "[1,\n",
       " 12,\n",
       " 23,\n",
       " 34,\n",
       " 45,\n",
       " 56,\n",
       " 67,\n",
       " 78,\n",
       " 89,\n",
       " 111,\n",
       " 122,\n",
       " 133,\n",
       " 144,\n",
       " 155,\n",
       " 166,\n",
       " 177,\n",
       " 188,\n",
       " 199,\n",
       " 210,\n",
       " 221,\n",
       " 232,\n",
       " 243,\n",
       " 254,\n",
       " 265,\n",
       " 276,\n",
       " 287,\n",
       " 298,\n",
       " 309,\n",
       " 320,\n",
       " 331,\n",
       " 342,\n",
       " 353,\n",
       " 364,\n",
       " 375,\n",
       " 386,\n",
       " 397,\n",
       " 408,\n",
       " 419,\n",
       " 430,\n",
       " 441,\n",
       " 452,\n",
       " 463,\n",
       " 474,\n",
       " 485,\n",
       " 496,\n",
       " 507,\n",
       " 518,\n",
       " 529,\n",
       " 540,\n",
       " 551,\n",
       " 562,\n",
       " 573,\n",
       " 584,\n",
       " 595,\n",
       " 606,\n",
       " 617,\n",
       " 628,\n",
       " 639,\n",
       " 650,\n",
       " 661,\n",
       " 672,\n",
       " 683,\n",
       " 694,\n",
       " 705,\n",
       " 716,\n",
       " 727,\n",
       " 738,\n",
       " 749,\n",
       " 760,\n",
       " 771,\n",
       " 782,\n",
       " 793,\n",
       " 804,\n",
       " 815,\n",
       " 826,\n",
       " 837,\n",
       " 848,\n",
       " 859,\n",
       " 870,\n",
       " 881,\n",
       " 892,\n",
       " 903,\n",
       " 914,\n",
       " 925,\n",
       " 936,\n",
       " 958,\n",
       " 969,\n",
       " 980,\n",
       " 991,\n",
       " 1002,\n",
       " 1013,\n",
       " 1024,\n",
       " 1035,\n",
       " 1046,\n",
       " 1057,\n",
       " 1068,\n",
       " 1079,\n",
       " 1090]"
      ]
     },
     "execution_count": 86,
     "metadata": {},
     "output_type": "execute_result"
    }
   ],
   "source": [
    "qw"
   ]
  },
  {
   "cell_type": "code",
   "execution_count": 90,
   "id": "stuck-virus",
   "metadata": {},
   "outputs": [
    {
     "data": {
      "text/plain": [
       "1"
      ]
     },
     "execution_count": 90,
     "metadata": {},
     "output_type": "execute_result"
    }
   ],
   "source": [
    "qw.count(991)"
   ]
  },
  {
   "cell_type": "code",
   "execution_count": 91,
   "id": "applicable-mystery",
   "metadata": {},
   "outputs": [
    {
     "data": {
      "text/plain": [
       "98"
      ]
     },
     "execution_count": 91,
     "metadata": {},
     "output_type": "execute_result"
    }
   ],
   "source": [
    "len(qw)"
   ]
  },
  {
   "cell_type": "code",
   "execution_count": 95,
   "id": "capable-portugal",
   "metadata": {},
   "outputs": [
    {
     "name": "stdout",
     "output_type": "stream",
     "text": [
      "its not there\n"
     ]
    }
   ],
   "source": [
    "if 947 in qw:\n",
    "    print(\"yes, its there\")\n",
    "else:\n",
    "    print(\"its not there\")"
   ]
  },
  {
   "cell_type": "code",
   "execution_count": 123,
   "id": "strange-rocket",
   "metadata": {},
   "outputs": [
    {
     "data": {
      "text/plain": [
       "[2, 34, 1, 55, 22, 88, 44, 66, 11]"
      ]
     },
     "execution_count": 123,
     "metadata": {},
     "output_type": "execute_result"
    }
   ],
   "source": [
    "my_list = [2, 34, 1, 55, 22, 88, 44, 66, 11]\n",
    "my_list"
   ]
  },
  {
   "cell_type": "code",
   "execution_count": 124,
   "id": "revised-viewer",
   "metadata": {},
   "outputs": [],
   "source": [
    "# algotrithm - Selection Sorting\n",
    "# overridden the sort method\n",
    "def sort_algo_dani(some_list):\n",
    "    for i in range(len(some_list)):\n",
    "        for j in range(len(some_list)):\n",
    "            if some_list[i] < some_list[j]:\n",
    "                some_list[i], some_list[j] = some_list[j], some_list[i]\n",
    "    return some_list"
   ]
  },
  {
   "cell_type": "code",
   "execution_count": 125,
   "id": "wound-macro",
   "metadata": {},
   "outputs": [
    {
     "name": "stdout",
     "output_type": "stream",
     "text": [
      "my unsorted list >>> [2, 34, 1, 55, 22, 88, 44, 66, 11]\n"
     ]
    },
    {
     "data": {
      "text/plain": [
       "[1, 2, 11, 22, 34, 44, 55, 66, 88]"
      ]
     },
     "execution_count": 125,
     "metadata": {},
     "output_type": "execute_result"
    }
   ],
   "source": [
    "print(\"my unsorted list >>>\", my_list)\n",
    "my_sorted_list = sort_algo_dani(my_list)\n",
    "my_sorted_list"
   ]
  },
  {
   "cell_type": "code",
   "execution_count": null,
   "id": "colored-execution",
   "metadata": {},
   "outputs": [],
   "source": []
  }
 ],
 "metadata": {
  "kernelspec": {
   "display_name": "Python 3",
   "language": "python",
   "name": "python3"
  },
  "language_info": {
   "codemirror_mode": {
    "name": "ipython",
    "version": 3
   },
   "file_extension": ".py",
   "mimetype": "text/x-python",
   "name": "python",
   "nbconvert_exporter": "python",
   "pygments_lexer": "ipython3",
   "version": "3.9.2"
  }
 },
 "nbformat": 4,
 "nbformat_minor": 5
}
