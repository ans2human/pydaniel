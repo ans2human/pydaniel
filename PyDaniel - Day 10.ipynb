{
 "cells": [
  {
   "cell_type": "code",
   "execution_count": 24,
   "id": "united-aircraft",
   "metadata": {},
   "outputs": [
    {
     "name": "stdout",
     "output_type": "stream",
     "text": [
      "PyDaniel\n",
      "python\n",
      "django\n",
      "\n",
      "\n",
      "WASHINGTON (AP) — Millions of coronavirus vaccine doses are in cold storage in the U.S. that can’t be injected in the states because they are not yet approved by the Food and Drug Administration, but the Biden administration is not allowing them to be sent overseas, where American allies are struggling to get enough doses for vulnerable populations.\n",
      "\n",
      "The two-dose vaccine from AstraZeneca has received emergency approval from the European Union and World Health Organization, but not in the U.S. Now U.S. partners are prodding President Joe Biden to release the supply, noting that the administration has lined up enough doses of the three already-approved vaccines to cover every American adult by the end of May and the entire U.S. population by the end of July.\n",
      "\n",
      "AstraZeneca said that the U.S.-produced vaccines are “owned” by the U.S. government and that sending them overseas would require White House approval.\n",
      "\n",
      "“We understand other governments may have reached out to the U.S. government about donation of AstraZeneca doses, and we’ve asked the U.S. government to give thoughtful consideration to these requests,” Gonzalo Viña, a spokesman for AstraZeneca, said in a statement.\n",
      "\n",
      "EU member states’ ambassadors this week discussed the challenge of accessing US-produced doses of the AstraZeneca shots. The German government said on Friday it was in contact with U.S. officials about vaccine supplies, but stressed that the European Commission had the lead when it comes to procuring shots for member states.\n",
      "\n",
      "Biden and European Commission president Ursula von der Leyen have directed representatives to discuss supply chains in the vaccine production.\n",
      "\n",
      "“Hopefully, we will be in a position on both sides of the Atlantic to ensure that sufficient quantities of vaccine doses are distributed out in line with the schedule so as to complete the vaccination campaigns,” EU commission chief spokesman Eric Mamer said.\n",
      "\n",
      "Even though it is not approved in the U.S., well over 10 million doses of AstraZeneca’s vaccine are stockpiled in the country for domestic use and cannot be exported under the terms of the company’s agreement with the federal government.\n",
      "\n",
      "\n"
     ]
    }
   ],
   "source": [
    "# file handling\n",
    "# In python we can create, read, Update and delete files using file handling\n",
    "\n",
    "# open\n",
    "\n",
    "# flags\n",
    "# r - read\n",
    "# a - Append\n",
    "# w - write\n",
    "# x - Create\n",
    "\n",
    "\n",
    "\n",
    "\n",
    "\n",
    "x = open(\"SomeText.txt\", encoding=\"UTF-8\")\n",
    "print(x.read()) # read will output the whole document"
   ]
  },
  {
   "cell_type": "code",
   "execution_count": 27,
   "id": "conceptual-hobby",
   "metadata": {},
   "outputs": [
    {
     "name": "stdout",
     "output_type": "stream",
     "text": [
      "PyDaniel\n",
      "\n"
     ]
    }
   ],
   "source": [
    "# readline : this is singular word means its going to read only first line.\n",
    "\n",
    "\n",
    "x = open(\"SomeText.txt\", encoding=\"UTF-8\")\n",
    "\n",
    "print(x.readline())"
   ]
  },
  {
   "cell_type": "code",
   "execution_count": 31,
   "id": "discrete-least",
   "metadata": {},
   "outputs": [
    {
     "name": "stdout",
     "output_type": "stream",
     "text": [
      "AstraZeneca said that the U.S.-produced vaccines are “owned” by the U.S. government and that sending them overseas would require White House approval.\n",
      "\n"
     ]
    }
   ],
   "source": [
    "# readlines : this is plural and it means it will read all the lines in a document and put them in a list\n",
    "\n",
    "x = open(\"SomeText.txt\", encoding=\"UTF-8\")\n",
    "\n",
    "print(x.readlines()[9])"
   ]
  },
  {
   "cell_type": "code",
   "execution_count": 32,
   "id": "hazardous-paragraph",
   "metadata": {},
   "outputs": [
    {
     "name": "stdout",
     "output_type": "stream",
     "text": [
      "PyDaniel\n",
      "\n",
      "python\n",
      "\n",
      "django\n",
      "\n",
      "\n",
      "\n",
      "\n",
      "\n",
      "WASHINGTON (AP) — Millions of coronavirus vaccine doses are in cold storage in the U.S. that can’t be injected in the states because they are not yet approved by the Food and Drug Administration, but the Biden administration is not allowing them to be sent overseas, where American allies are struggling to get enough doses for vulnerable populations.\n",
      "\n",
      "\n",
      "\n",
      "The two-dose vaccine from AstraZeneca has received emergency approval from the European Union and World Health Organization, but not in the U.S. Now U.S. partners are prodding President Joe Biden to release the supply, noting that the administration has lined up enough doses of the three already-approved vaccines to cover every American adult by the end of May and the entire U.S. population by the end of July.\n",
      "\n",
      "\n",
      "\n",
      "AstraZeneca said that the U.S.-produced vaccines are “owned” by the U.S. government and that sending them overseas would require White House approval.\n",
      "\n",
      "\n",
      "\n",
      "“We understand other governments may have reached out to the U.S. government about donation of AstraZeneca doses, and we’ve asked the U.S. government to give thoughtful consideration to these requests,” Gonzalo Viña, a spokesman for AstraZeneca, said in a statement.\n",
      "\n",
      "\n",
      "\n",
      "EU member states’ ambassadors this week discussed the challenge of accessing US-produced doses of the AstraZeneca shots. The German government said on Friday it was in contact with U.S. officials about vaccine supplies, but stressed that the European Commission had the lead when it comes to procuring shots for member states.\n",
      "\n",
      "\n",
      "\n",
      "Biden and European Commission president Ursula von der Leyen have directed representatives to discuss supply chains in the vaccine production.\n",
      "\n",
      "\n",
      "\n",
      "“Hopefully, we will be in a position on both sides of the Atlantic to ensure that sufficient quantities of vaccine doses are distributed out in line with the schedule so as to complete the vaccination campaigns,” EU commission chief spokesman Eric Mamer said.\n",
      "\n",
      "\n",
      "\n",
      "Even though it is not approved in the U.S., well over 10 million doses of AstraZeneca’s vaccine are stockpiled in the country for domestic use and cannot be exported under the terms of the company’s agreement with the federal government.\n",
      "\n",
      "\n",
      "\n"
     ]
    }
   ],
   "source": [
    "# loops\n",
    "\n",
    "x = open(\"SomeText.txt\", encoding=\"UTF-8\")\n",
    "\n",
    "for txt in x:\n",
    "    print(txt)"
   ]
  },
  {
   "cell_type": "code",
   "execution_count": 47,
   "id": "southeast-bones",
   "metadata": {},
   "outputs": [],
   "source": [
    "# close file \n",
    "# its a good practice to close the file after the use.\n",
    "\n",
    "x.close()"
   ]
  },
  {
   "cell_type": "code",
   "execution_count": 60,
   "id": "accepting-portrait",
   "metadata": {},
   "outputs": [],
   "source": [
    "# append\n",
    "\n",
    "x = open(\"SomeText.txt\", \"a\",  encoding=\"UTF-8\")\n",
    "x.write(\"\\n adding some new txt at the end\")\n",
    "x.close()\n"
   ]
  },
  {
   "cell_type": "code",
   "execution_count": 65,
   "id": "serial-remove",
   "metadata": {},
   "outputs": [
    {
     "name": "stdout",
     "output_type": "stream",
     "text": [
      "WASHINGTON (AP) — Millions of coronavirus vaccine doses are in cold storage in the U.S. that can’t be injected in the states because they are not yet approved by the Food and Drug Administration, but the Biden administration is not allowing them to be sent overseas, where American allies are struggling to get enough doses for vulnerable populations.\n",
      "\n",
      "The two-dose vaccine from AstraZeneca has received emergency approval from the European Union and World Health Organization, but not in the U.S. Now U.S. partners are prodding President Joe Biden to release the supply, noting that the administration has lined up enough doses of the three already-approved vaccines to cover every American adult by the end of May and the entire U.S. population by the end of July.\n",
      "\n",
      "AstraZeneca said that the U.S.-produced vaccines are “owned” by the U.S. government and that sending them overseas would require White House approval.\n",
      "\n",
      "“We understand other governments may have reached out to the U.S. government about donation of AstraZeneca doses, and we’ve asked the U.S. government to give thoughtful consideration to these requests,” Gonzalo Viña, a spokesman for AstraZeneca, said in a statement.\n",
      "\n",
      "EU member states’ ambassadors this week discussed the challenge of accessing US-produced doses of the AstraZeneca shots. The German government said on Friday it was in contact with U.S. officials about vaccine supplies, but stressed that the European Commission had the lead when it comes to procuring shots for member states.\n",
      "\n",
      "Biden and European Commission president Ursula von der Leyen have directed representatives to discuss supply chains in the vaccine production.\n",
      "\n",
      "“Hopefully, we will be in a position on both sides of the Atlantic to ensure that sufficient quantities of vaccine doses are distributed out in line with the schedule so as to complete the vaccination campaigns,” EU commission chief spokesman Eric Mamer said.\n",
      "\n",
      "Even though it is not approved in the U.S., well over 10 million doses of AstraZeneca’s vaccine are stockpiled in the country for domestic use and cannot be exported under the terms of the company’s agreement with the federal government.adding some txt at the end\n",
      " adding some new txt at the end\n"
     ]
    }
   ],
   "source": [
    "x = open(\"SomeText.txt\", encoding=\"UTF-8\")\n",
    "print(x.read())"
   ]
  },
  {
   "cell_type": "code",
   "execution_count": 66,
   "id": "charming-passenger",
   "metadata": {},
   "outputs": [],
   "source": [
    "x = open(\"SomeText.txt\", \"w\",  encoding=\"UTF-8\")\n",
    "x.write(\"adding new txt\")\n",
    "x.close()"
   ]
  },
  {
   "cell_type": "code",
   "execution_count": 67,
   "id": "accepted-entertainment",
   "metadata": {},
   "outputs": [
    {
     "name": "stdout",
     "output_type": "stream",
     "text": [
      "adding new txt\n"
     ]
    }
   ],
   "source": [
    "x = open(\"SomeText.txt\", encoding=\"UTF-8\")\n",
    "print(x.read())"
   ]
  },
  {
   "cell_type": "code",
   "execution_count": 70,
   "id": "intended-uzbekistan",
   "metadata": {},
   "outputs": [],
   "source": [
    "q = open(\"NewText.txt\", \"x\")"
   ]
  },
  {
   "cell_type": "code",
   "execution_count": 75,
   "id": "regional-benjamin",
   "metadata": {},
   "outputs": [],
   "source": [
    "q.write(\"wodcojw\")\n",
    "q.close()"
   ]
  },
  {
   "cell_type": "code",
   "execution_count": 76,
   "id": "seasonal-queens",
   "metadata": {},
   "outputs": [],
   "source": [
    "# deleting files\n",
    "\n",
    "\n",
    "import os # operating system\n",
    "\n",
    "os.remove(\"NewText.txt\")"
   ]
  },
  {
   "cell_type": "code",
   "execution_count": 79,
   "id": "dental-income",
   "metadata": {},
   "outputs": [],
   "source": [
    "# remove directory/Folder\n",
    "\n",
    "os.rmdir(\"tttt\")"
   ]
  },
  {
   "cell_type": "code",
   "execution_count": 146,
   "id": "daily-delhi",
   "metadata": {},
   "outputs": [],
   "source": [
    "# function that deletes all files and then folder\n",
    "import glob, os\n",
    "\n",
    "def del_folder(dir_name):\n",
    "    \n",
    "    dir_path = os.getcwd() +  \"\\{}\".format(dir_name)\n",
    "    try:\n",
    "        os.rmdir(dir_path)  # remove the folder\n",
    "    except:\n",
    "        print(\"OSError\")   # couldn't remove the folder because we have files inside it\n",
    "    finally:\n",
    "        # now iterate through files in that folder and delete them one by one and delete the folder at the end\n",
    "        try:\n",
    "            for filepath in os.listdir(dir_path):\n",
    "                os.remove(dir_path +  \"\\{}\".format(filepath))\n",
    "            os.rmdir(dir_path)\n",
    "            print(\"folder is deleted\")\n",
    "        except:\n",
    "            print(\"folder is not there\")"
   ]
  },
  {
   "cell_type": "code",
   "execution_count": 147,
   "id": "dense-bedroom",
   "metadata": {},
   "outputs": [
    {
     "name": "stdout",
     "output_type": "stream",
     "text": [
      "OSError\n",
      "folder is deleted\n"
     ]
    }
   ],
   "source": [
    "del_folder(\"rrr\")"
   ]
  },
  {
   "cell_type": "code",
   "execution_count": 112,
   "id": "apart-health",
   "metadata": {},
   "outputs": [
    {
     "data": {
      "text/plain": [
       "'C:\\\\Users\\\\anshuman\\\\projects\\\\Notebooks\\\\pydaniel'"
      ]
     },
     "execution_count": 112,
     "metadata": {},
     "output_type": "execute_result"
    }
   ],
   "source": [
    "cwd = os.getcwd()\n",
    "cwd"
   ]
  },
  {
   "cell_type": "code",
   "execution_count": null,
   "id": "dated-showcase",
   "metadata": {},
   "outputs": [],
   "source": [
    "# homework\n",
    "# create a function to read all the text from a file and out the result using speech"
   ]
  }
 ],
 "metadata": {
  "kernelspec": {
   "display_name": "Python 3",
   "language": "python",
   "name": "python3"
  },
  "language_info": {
   "codemirror_mode": {
    "name": "ipython",
    "version": 3
   },
   "file_extension": ".py",
   "mimetype": "text/x-python",
   "name": "python",
   "nbconvert_exporter": "python",
   "pygments_lexer": "ipython3",
   "version": "3.9.2"
  }
 },
 "nbformat": 4,
 "nbformat_minor": 5
}
