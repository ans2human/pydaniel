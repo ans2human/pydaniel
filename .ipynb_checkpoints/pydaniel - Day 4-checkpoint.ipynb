{
 "cells": [
  {
   "cell_type": "code",
   "execution_count": 1,
   "id": "fundamental-instrumentation",
   "metadata": {},
   "outputs": [
    {
     "name": "stdout",
     "output_type": "stream",
     "text": [
      "['D']\n",
      "['D', 'a']\n",
      "['D', 'a', 'n']\n",
      "['D', 'a', 'n', ',']\n",
      "['D', 'a', 'n', ',', 'i']\n",
      "['D', 'a', 'n', ',', 'i', 'e']\n",
      "['D', 'a', 'n', ',', 'i', 'e', 'l']\n"
     ]
    }
   ],
   "source": [
    "# While loop\n",
    "# break - Breaks the while loop if a condition is true\n",
    "# continue - skips a particular execution cycle if statement is true\n",
    "\n",
    "my_list = []\n",
    "\n",
    "\n",
    "my_name = \"Dan,iel\"\n",
    "\n",
    "\n",
    "while len(my_list) < len(my_name):\n",
    "    for x in my_name:\n",
    "        if len(my_list) ==3:\n",
    "            br\n",
    "        my_list.append(x)\n",
    "        print(my_list)"
   ]
  },
  {
   "cell_type": "code",
   "execution_count": 2,
   "id": "technological-celtic",
   "metadata": {},
   "outputs": [
    {
     "data": {
      "text/plain": [
       "['D', 'a', 'n', ',', 'i', 'e', 'l']"
      ]
     },
     "execution_count": 2,
     "metadata": {},
     "output_type": "execute_result"
    }
   ],
   "source": [
    "my_list"
   ]
  },
  {
   "cell_type": "code",
   "execution_count": null,
   "id": "collective-stranger",
   "metadata": {},
   "outputs": [],
   "source": []
  }
 ],
 "metadata": {
  "kernelspec": {
   "display_name": "Python 3",
   "language": "python",
   "name": "python3"
  },
  "language_info": {
   "codemirror_mode": {
    "name": "ipython",
    "version": 3
   },
   "file_extension": ".py",
   "mimetype": "text/x-python",
   "name": "python",
   "nbconvert_exporter": "python",
   "pygments_lexer": "ipython3",
   "version": "3.9.2"
  }
 },
 "nbformat": 4,
 "nbformat_minor": 5
}
