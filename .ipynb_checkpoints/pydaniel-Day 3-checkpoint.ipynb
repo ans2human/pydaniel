{
 "cells": [
  {
   "cell_type": "code",
   "execution_count": 1,
   "id": "positive-bahamas",
   "metadata": {},
   "outputs": [],
   "source": [
    "# Q- Why tuple instead of list\n",
    "# Ans - Security"
   ]
  },
  {
   "cell_type": "code",
   "execution_count": 24,
   "id": "harmful-spending",
   "metadata": {},
   "outputs": [],
   "source": [
    "my_dict = {\n",
    "            \"brand\": \"Skoda\",\n",
    "            \"model\": \"Laura\",\n",
    "            \"year\": 2020,\n",
    "            \"CC\": 2345.44,\n",
    "            ('is_passed',) : True \n",
    "          }"
   ]
  },
  {
   "cell_type": "code",
   "execution_count": 25,
   "id": "applied-ground",
   "metadata": {},
   "outputs": [
    {
     "data": {
      "text/plain": [
       "{'brand': 'Skoda',\n",
       " 'model': 'Laura',\n",
       " 'year': 2020,\n",
       " 'CC': 2345.44,\n",
       " ('is_passed',): True}"
      ]
     },
     "execution_count": 25,
     "metadata": {},
     "output_type": "execute_result"
    }
   ],
   "source": [
    "my_dict"
   ]
  },
  {
   "cell_type": "code",
   "execution_count": 26,
   "id": "descending-lounge",
   "metadata": {},
   "outputs": [],
   "source": [
    "# various ways to update a dictionary: 5 methods\n",
    "# using update method\n",
    "new_chars = {'bhp': 178.90, \"power_steering\":True}\n",
    "my_dict.update({'bhp': 138.90, \"power_steering\":True})"
   ]
  },
  {
   "cell_type": "code",
   "execution_count": 27,
   "id": "dirty-carnival",
   "metadata": {},
   "outputs": [
    {
     "data": {
      "text/plain": [
       "{'brand': 'Skoda',\n",
       " 'model': 'Laura',\n",
       " 'year': 2020,\n",
       " 'CC': 2345.44,\n",
       " ('is_passed',): True,\n",
       " 'bhp': 138.9,\n",
       " 'power_steering': True}"
      ]
     },
     "execution_count": 27,
     "metadata": {},
     "output_type": "execute_result"
    }
   ],
   "source": [
    "my_dict"
   ]
  },
  {
   "cell_type": "code",
   "execution_count": 10,
   "id": "extra-settle",
   "metadata": {},
   "outputs": [],
   "source": [
    "# square method\n",
    "\n",
    "my_dict[\"engine_type\"] = \"v6\""
   ]
  },
  {
   "cell_type": "code",
   "execution_count": 11,
   "id": "curious-cookie",
   "metadata": {
    "scrolled": true
   },
   "outputs": [
    {
     "data": {
      "text/plain": [
       "{'brand': 'Skoda',\n",
       " 'model': 'Laura',\n",
       " 'year': 2020,\n",
       " 'CC': 2345.44,\n",
       " ('is_passed',): True,\n",
       " 'color': 'blue',\n",
       " 'engine_type': 'v6'}"
      ]
     },
     "execution_count": 11,
     "metadata": {},
     "output_type": "execute_result"
    }
   ],
   "source": [
    "my_dict"
   ]
  },
  {
   "cell_type": "code",
   "execution_count": 12,
   "id": "legitimate-gilbert",
   "metadata": {},
   "outputs": [],
   "source": [
    "my_dict[\"CC\"] = 4678.98"
   ]
  },
  {
   "cell_type": "code",
   "execution_count": 28,
   "id": "worth-mobility",
   "metadata": {},
   "outputs": [
    {
     "data": {
      "text/plain": [
       "{'brand': 'Skoda',\n",
       " 'model': 'Laura',\n",
       " 'year': 2020,\n",
       " 'CC': 2345.44,\n",
       " ('is_passed',): True,\n",
       " 'bhp': 138.9,\n",
       " 'power_steering': True}"
      ]
     },
     "execution_count": 28,
     "metadata": {},
     "output_type": "execute_result"
    }
   ],
   "source": [
    "my_dict"
   ]
  },
  {
   "cell_type": "code",
   "execution_count": 33,
   "id": "continent-civilian",
   "metadata": {},
   "outputs": [],
   "source": [
    "# Dictionary Multiplication\n",
    "\n",
    "my_sub_dict = {\"fuel_tank\": '57L', \"torque\":300}\n",
    "my_dict = {**my_dict, **my_sub_dict}"
   ]
  },
  {
   "cell_type": "code",
   "execution_count": 34,
   "id": "educational-conducting",
   "metadata": {},
   "outputs": [
    {
     "data": {
      "text/plain": [
       "{'brand': 'Skoda',\n",
       " 'model': 'Laura',\n",
       " 'year': 2020,\n",
       " 'CC': 2345.44,\n",
       " ('is_passed',): True,\n",
       " 'bhp': 138.9,\n",
       " 'power_steering': True,\n",
       " 'fuel_tank': '57L',\n",
       " 'torque': 300}"
      ]
     },
     "execution_count": 34,
     "metadata": {},
     "output_type": "execute_result"
    }
   ],
   "source": [
    "my_dict"
   ]
  },
  {
   "cell_type": "code",
   "execution_count": 46,
   "id": "split-drive",
   "metadata": {},
   "outputs": [
    {
     "data": {
      "text/plain": [
       "{'ABS': 1, 'ACC': False}"
      ]
     },
     "execution_count": 46,
     "metadata": {},
     "output_type": "execute_result"
    }
   ],
   "source": [
    "# specific to 3.9 python\n",
    "\n",
    "my_sub_dict2 = {\"ABS\":1, \"ACC\":False}\n",
    "my_sub_dict2"
   ]
  },
  {
   "cell_type": "code",
   "execution_count": 47,
   "id": "herbal-impact",
   "metadata": {},
   "outputs": [
    {
     "data": {
      "text/plain": [
       "{'brand': 'Skoda', 'model': 'Laura', 'year': 2020, 'CC': 2345.44}"
      ]
     },
     "execution_count": 47,
     "metadata": {},
     "output_type": "execute_result"
    }
   ],
   "source": [
    "my_dict = {\n",
    "            \"brand\": \"Skoda\",\n",
    "            \"model\": \"Laura\",\n",
    "            \"year\": 2020,\n",
    "            \"CC\": 2345.44,\n",
    "          }\n",
    "my_dict"
   ]
  },
  {
   "cell_type": "code",
   "execution_count": 44,
   "id": "closing-government",
   "metadata": {},
   "outputs": [],
   "source": [
    "#4 \n",
    "my_dict = my_dict|my_sub_dict2"
   ]
  },
  {
   "cell_type": "code",
   "execution_count": 48,
   "id": "subsequent-external",
   "metadata": {},
   "outputs": [],
   "source": [
    "#5 \n",
    "my_dict |= my_sub_dict2"
   ]
  },
  {
   "cell_type": "code",
   "execution_count": 66,
   "id": "floppy-piece",
   "metadata": {},
   "outputs": [
    {
     "data": {
      "text/plain": [
       "{'brand': 'Skoda',\n",
       " 'model': 'Laura',\n",
       " 'year': 2020,\n",
       " 'CC': 2345.44,\n",
       " 'ABS': 1,\n",
       " 'ACC': False}"
      ]
     },
     "execution_count": 66,
     "metadata": {},
     "output_type": "execute_result"
    }
   ],
   "source": [
    "my_dict"
   ]
  },
  {
   "cell_type": "code",
   "execution_count": 73,
   "id": "subject-refund",
   "metadata": {},
   "outputs": [
    {
     "data": {
      "text/plain": [
       "{'brand': 'Skoda',\n",
       " 'model': 'Laura',\n",
       " 'year': 2020,\n",
       " 'CC': 2345.44,\n",
       " 'ABS': 1,\n",
       " 'ACC': False}"
      ]
     },
     "execution_count": 73,
     "metadata": {},
     "output_type": "execute_result"
    }
   ],
   "source": [
    "#copy methods\n",
    "\n",
    "\n",
    "# inbuilt copy method: creates shallow copy\n",
    "my_copy_dict = my_dict.copy()\n",
    "\n",
    "\n",
    "#deepcopy method: creates new object\n",
    "from copy import deepcopy\n",
    "my_deepcopy_dict = deepcopy(my_dict)\n",
    "\n",
    "\n",
    "my_copy_dict"
   ]
  },
  {
   "cell_type": "code",
   "execution_count": 74,
   "id": "republican-soundtrack",
   "metadata": {},
   "outputs": [
    {
     "data": {
      "text/plain": [
       "1"
      ]
     },
     "execution_count": 74,
     "metadata": {},
     "output_type": "execute_result"
    }
   ],
   "source": [
    "#pop\n",
    "# when you use pop, you remove the key:value pair also in reponse you get the value\n",
    "my_copy_dict.pop(\"ABS\")"
   ]
  },
  {
   "cell_type": "code",
   "execution_count": 75,
   "id": "textile-franchise",
   "metadata": {},
   "outputs": [
    {
     "data": {
      "text/plain": [
       "{'brand': 'Skoda', 'model': 'Laura', 'year': 2020, 'CC': 2345.44, 'ACC': False}"
      ]
     },
     "execution_count": 75,
     "metadata": {},
     "output_type": "execute_result"
    }
   ],
   "source": [
    "my_copied_dict"
   ]
  },
  {
   "cell_type": "code",
   "execution_count": 77,
   "id": "aggregate-exception",
   "metadata": {},
   "outputs": [
    {
     "data": {
      "text/plain": [
       "('ACC', False)"
      ]
     },
     "execution_count": 77,
     "metadata": {},
     "output_type": "execute_result"
    }
   ],
   "source": [
    "# popitem : removes last added key:value pair\n",
    "my_copied_dict.popitem()"
   ]
  },
  {
   "cell_type": "code",
   "execution_count": 86,
   "id": "surrounded-disposal",
   "metadata": {},
   "outputs": [],
   "source": [
    "# fromkeys()\n",
    "\n",
    "x = [1, 2, 3, 4, 5]\n",
    "y = 9\n",
    "\n",
    "my_new_dict = dict.fromkeys(x, y)"
   ]
  },
  {
   "cell_type": "code",
   "execution_count": 87,
   "id": "painted-williams",
   "metadata": {},
   "outputs": [
    {
     "data": {
      "text/plain": [
       "{1: 9, 2: 9, 3: 9, 4: 9, 5: 9}"
      ]
     },
     "execution_count": 87,
     "metadata": {},
     "output_type": "execute_result"
    }
   ],
   "source": [
    "my_new_dict"
   ]
  },
  {
   "cell_type": "code",
   "execution_count": 88,
   "id": "romance-earthquake",
   "metadata": {},
   "outputs": [],
   "source": [
    "# Zip\n",
    "\n",
    "x = [1, 2, 3, 4, 5]\n",
    "y = [9, 8, 7, 6, 0]\n",
    "\n",
    "z = dict(zip(x,y))"
   ]
  },
  {
   "cell_type": "code",
   "execution_count": 89,
   "id": "casual-mediterranean",
   "metadata": {},
   "outputs": [
    {
     "data": {
      "text/plain": [
       "{1: 9, 2: 8, 3: 7, 4: 6, 5: 0}"
      ]
     },
     "execution_count": 89,
     "metadata": {},
     "output_type": "execute_result"
    }
   ],
   "source": [
    "z"
   ]
  },
  {
   "cell_type": "code",
   "execution_count": 92,
   "id": "supreme-exercise",
   "metadata": {},
   "outputs": [
    {
     "data": {
      "text/plain": [
       "90"
      ]
     },
     "execution_count": 92,
     "metadata": {},
     "output_type": "execute_result"
    }
   ],
   "source": [
    "# setdefault \n",
    "# gets the value of current existing key, if not creates a new key:value pair\n",
    "\n",
    "\n",
    "z.setdefault(40, 90)"
   ]
  },
  {
   "cell_type": "code",
   "execution_count": 93,
   "id": "increased-tiger",
   "metadata": {},
   "outputs": [
    {
     "data": {
      "text/plain": [
       "{1: 9, 2: 8, 3: 7, 4: 6, 5: 0, 40: 90}"
      ]
     },
     "execution_count": 93,
     "metadata": {},
     "output_type": "execute_result"
    }
   ],
   "source": [
    "z"
   ]
  },
  {
   "cell_type": "code",
   "execution_count": 1,
   "id": "optional-reply",
   "metadata": {},
   "outputs": [
    {
     "name": "stdout",
     "output_type": "stream",
     "text": [
      "Ask me a question what's your name?\n"
     ]
    }
   ],
   "source": [
    "# if else\n",
    "# chatbot based on If else\n",
    "\n",
    "\n",
    "from win32com.client import Dispatch\n",
    "speak = Dispatch(\"SAPI.Spvoice\") \n",
    "\n",
    "x = input(\"Ask me a question \")\n",
    "\n",
    "if x.lower() in [\"hi\", \"hello\", \"hey\"]:\n",
    "    speak.Speak(\"hi Daniel\")\n",
    "    \n",
    "elif x.lower() == \"what are you?\":\n",
    "    speak.Speak(\"I'm a virtual Assistant or in layman terms ChatBot!\")\n",
    "    \n",
    "elif x.lower() == \"what's your name?\":\n",
    "    speak.Speak(\"My name is jaarvis\")\n",
    "    \n",
    "elif x.lower() == \"how old are you?\":\n",
    "    speak.Speak(\"older than you, daniel\")\n",
    "    \n",
    "else:\n",
    "    speak.Speak(\"I Don't understand\")"
   ]
  },
  {
   "cell_type": "code",
   "execution_count": null,
   "id": "subtle-estimate",
   "metadata": {},
   "outputs": [],
   "source": [
    "# if else continues..."
   ]
  },
  {
   "cell_type": "code",
   "execution_count": 137,
   "id": "scheduled-controversy",
   "metadata": {},
   "outputs": [
    {
     "name": "stdout",
     "output_type": "stream",
     "text": [
      "no\n"
     ]
    }
   ],
   "source": [
    "if 2==3:\n",
    "    print(\"yes\")\n",
    "else:\n",
    "    print(\"no\")"
   ]
  },
  {
   "cell_type": "code",
   "execution_count": 138,
   "id": "floral-blood",
   "metadata": {},
   "outputs": [
    {
     "name": "stdout",
     "output_type": "stream",
     "text": [
      "no\n"
     ]
    }
   ],
   "source": [
    "print(\"yes\") if 2==3 else print(\"no\")"
   ]
  },
  {
   "cell_type": "code",
   "execution_count": 148,
   "id": "regional-advisory",
   "metadata": {},
   "outputs": [
    {
     "name": "stdout",
     "output_type": "stream",
     "text": [
      "yes its smaller than 4\n",
      "yes its smaller than 3\n"
     ]
    }
   ],
   "source": [
    "# nested if else\n",
    "# pass\n",
    "\n",
    "x = 2\n",
    "\n",
    "if x<4:\n",
    "    print(\"yes its smaller than 4\")\n",
    "    if x<3:\n",
    "        print(\"yes its smaller than 3\")\n",
    "        if x<2:\n",
    "            print(\"yes its smaller than 2\")\n",
    "        pass\n",
    "    else:\n",
    "        print(\"no3\")\n",
    "else:\n",
    "    print(\"no4\")\n",
    "    "
   ]
  },
  {
   "cell_type": "code",
   "execution_count": 165,
   "id": "turkish-maple",
   "metadata": {},
   "outputs": [],
   "source": [
    "# \n",
    "\n",
    "def some_fn(num1):\n",
    "    num = num1 + 5\n",
    "    pass\n"
   ]
  },
  {
   "cell_type": "code",
   "execution_count": 166,
   "id": "otherwise-impact",
   "metadata": {},
   "outputs": [],
   "source": [
    "some_fn(3)"
   ]
  },
  {
   "cell_type": "code",
   "execution_count": null,
   "id": "elder-allowance",
   "metadata": {},
   "outputs": [],
   "source": []
  },
  {
   "cell_type": "code",
   "execution_count": null,
   "id": "genetic-calculator",
   "metadata": {},
   "outputs": [],
   "source": []
  }
 ],
 "metadata": {
  "kernelspec": {
   "display_name": "Python 3",
   "language": "python",
   "name": "python3"
  },
  "language_info": {
   "codemirror_mode": {
    "name": "ipython",
    "version": 3
   },
   "file_extension": ".py",
   "mimetype": "text/x-python",
   "name": "python",
   "nbconvert_exporter": "python",
   "pygments_lexer": "ipython3",
   "version": "3.9.2"
  }
 },
 "nbformat": 4,
 "nbformat_minor": 5
}
